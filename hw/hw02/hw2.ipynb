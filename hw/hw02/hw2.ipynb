{
 "cells": [
  {
   "cell_type": "code",
   "execution_count": 1,
   "id": "f3209d2a",
   "metadata": {
    "deletable": false,
    "editable": false
   },
   "outputs": [],
   "source": [
    "# Initialize Otter\n",
    "import otter\n",
    "grader = otter.Notebook(\"hw2.ipynb\")"
   ]
  },
  {
   "cell_type": "markdown",
   "id": "df451c69",
   "metadata": {},
   "source": [
    "# Homework 2: Confidence Intervals"
   ]
  },
  {
   "cell_type": "markdown",
   "id": "bf75338b",
   "metadata": {},
   "source": [
    "\n",
    "**Recommended Reading**: \n",
    "\n",
    "* [Estimation](https://www.inferentialthinking.com/chapters/13/Estimation)"
   ]
  },
  {
   "cell_type": "markdown",
   "id": "1c59f57d",
   "metadata": {},
   "source": [
    "Please complete this notebook by filling in the cells provided. Before you begin, execute the following cell to setup the notebook by importing some helpful libraries. Each time you start your server, you will need to execute this cell again.\n",
    "\n",
    "For all problems that you must write explanations and sentences for, you **must** provide your answer in the designated space. **Moreover, throughout this homework and all future ones, please be sure to not re-assign variables throughout the notebook!** For example, if you use `max_temperature` in your answer to one question, do not reassign it later on. Otherwise, you will fail tests that you thought you were passing previously!\n",
    "\n",
    "\n",
    "**Note: This homework has hidden tests on it. That means even though the tests may say 100% passed, it doesn't mean your final grade will be 100%. We will be running more tests for correctness once everyone turns in the homework.**\n",
    "\n",
    "\n",
    "Directly sharing answers is not okay, but discussing problems with the course staff or with other students is encouraged. \n",
    "\n",
    "You should start early so that you have time to get help if you're stuck."
   ]
  },
  {
   "cell_type": "code",
   "execution_count": 2,
   "id": "58f69155",
   "metadata": {},
   "outputs": [],
   "source": [
    "# Don't change this cell; just run it. \n",
    "\n",
    "import numpy as np\n",
    "from datascience import *\n",
    "\n",
    "# These lines do some fancy plotting magic.\n",
    "import matplotlib\n",
    "%matplotlib inline\n",
    "import matplotlib.pyplot as plt\n",
    "plt.style.use('fivethirtyeight')\n",
    "import warnings\n",
    "warnings.simplefilter('ignore', FutureWarning)"
   ]
  },
  {
   "cell_type": "markdown",
   "id": "ca83a993",
   "metadata": {},
   "source": [
    "## 1. Thai Restaurants"
   ]
  },
  {
   "cell_type": "markdown",
   "id": "9c760bda",
   "metadata": {},
   "source": [
    "Ben and Frank are trying see what the best Thai restaurant in Santa Barbara/Goleta is. They survey 1500 UCSB students selected uniformly at random, and ask each student what Thai restaurant is the best (Note: this data is fabricated for the purposes of this homework). The choices of Thai restaurant are Your Choice, Empty Bowl, TAP Thai, and Meun Fan. After compiling the results, Ben and Frank release the following percentages from their sample:\n",
    "\n",
    "|Thai Restaurant  | Percentage|\n",
    "|:------------:|:------------:|\n",
    "|TAP Thai | 8% |\n",
    "|Meun Fan | 52% |\n",
    "|Empty Bowl | 25% |\n",
    "|Your choice | 15% |\n",
    "\n",
    "These percentages represent a uniform random sample of the population of UCSB students. We will attempt to estimate the corresponding *parameters*, or the percentage of the votes that each restaurant will receive from the entire population (the entire population is all UCSB students). We will use confidence intervals to compute a range of values that reflects the uncertainty of our estimates.\n",
    "\n",
    "The table `votes` contains the results of the survey."
   ]
  },
  {
   "cell_type": "code",
   "execution_count": 3,
   "id": "83086edc",
   "metadata": {
    "deletable": false
   },
   "outputs": [
    {
     "data": {
      "text/html": [
       "<table border=\"1\" class=\"dataframe\">\n",
       "    <thead>\n",
       "        <tr>\n",
       "            <th>Vote</th>\n",
       "        </tr>\n",
       "    </thead>\n",
       "    <tbody>\n",
       "        <tr>\n",
       "            <td>TAP Thai</td>\n",
       "        </tr>\n",
       "        <tr>\n",
       "            <td>TAP Thai</td>\n",
       "        </tr>\n",
       "        <tr>\n",
       "            <td>TAP Thai</td>\n",
       "        </tr>\n",
       "        <tr>\n",
       "            <td>TAP Thai</td>\n",
       "        </tr>\n",
       "        <tr>\n",
       "            <td>TAP Thai</td>\n",
       "        </tr>\n",
       "        <tr>\n",
       "            <td>TAP Thai</td>\n",
       "        </tr>\n",
       "        <tr>\n",
       "            <td>TAP Thai</td>\n",
       "        </tr>\n",
       "        <tr>\n",
       "            <td>TAP Thai</td>\n",
       "        </tr>\n",
       "        <tr>\n",
       "            <td>TAP Thai</td>\n",
       "        </tr>\n",
       "        <tr>\n",
       "            <td>TAP Thai</td>\n",
       "        </tr>\n",
       "    </tbody>\n",
       "</table>\n",
       "<p>... (1490 rows omitted)</p>"
      ],
      "text/plain": [
       "Vote\n",
       "TAP Thai\n",
       "TAP Thai\n",
       "TAP Thai\n",
       "TAP Thai\n",
       "TAP Thai\n",
       "TAP Thai\n",
       "TAP Thai\n",
       "TAP Thai\n",
       "TAP Thai\n",
       "TAP Thai\n",
       "... (1490 rows omitted)"
      ]
     },
     "execution_count": 3,
     "metadata": {},
     "output_type": "execute_result"
    }
   ],
   "source": [
    "# Just run this cell\n",
    "votes = Table.read_table('data/votes.csv')\n",
    "votes"
   ]
  },
  {
   "cell_type": "markdown",
   "id": "670fc03f",
   "metadata": {
    "deletable": false,
    "editable": false
   },
   "source": [
    "**Question 1.** Complete the function `one_resampled_percentage` below. It should return Meun Fan's **percentage** of votes after simulating one bootstrap sample of tbl.\n",
    "\n",
    "**Note:** *`tbl` will always be in the same format as `votes`*.\n"
   ]
  },
  {
   "cell_type": "code",
   "execution_count": 5,
   "id": "b957a5cb",
   "metadata": {
    "tags": []
   },
   "outputs": [
    {
     "data": {
      "text/plain": [
       "53.333333333333336"
      ]
     },
     "execution_count": 5,
     "metadata": {},
     "output_type": "execute_result"
    }
   ],
   "source": [
    "def one_resampled_percentage(tbl):\n",
    "    bootstrap = tbl.sample()\n",
    "    single_percentage = (np.count_nonzero(bootstrap.column('Vote') == \"Meun Fan\")/votes.num_rows) * 100\n",
    "    return single_percentage\n",
    "    \n",
    "one_resampled_percentage(votes)"
   ]
  },
  {
   "cell_type": "code",
   "execution_count": 6,
   "id": "e6a909ea",
   "metadata": {
    "deletable": false,
    "editable": false
   },
   "outputs": [
    {
     "data": {
      "text/html": [
       "<p><strong><pre style='display: inline;'>q1_1</pre></strong> passed! 🌈</p>"
      ],
      "text/plain": [
       "q1_1 results: All test cases passed!"
      ]
     },
     "execution_count": 6,
     "metadata": {},
     "output_type": "execute_result"
    }
   ],
   "source": [
    "grader.check(\"q1_1\")"
   ]
  },
  {
   "cell_type": "markdown",
   "id": "5cc949b8",
   "metadata": {
    "deletable": false,
    "editable": false
   },
   "source": [
    "\n",
    "**Question 2.** Complete the `percentages_in_resamples` function such that it returns an array of 2500 bootstrapped estimates of the percentage of voters who will vote for Meun Fan. You should use the `one_resampled_percentage` function you wrote above.\n",
    "\n",
    "Note: There are no public tests for this question, the autograder cell below will return 0.0% passed.\n"
   ]
  },
  {
   "cell_type": "code",
   "execution_count": 9,
   "id": "429d07b2",
   "metadata": {
    "for_assignment_type": "solution",
    "tags": []
   },
   "outputs": [],
   "source": [
    "def percentages_in_resamples():\n",
    "    percentage_meunfan = make_array()\n",
    "    for i in np.arange(2500):\n",
    "        single_percentage = one_resampled_percentage(votes)\n",
    "        percentage_meunfan = np.append( percentage_meunfan, single_percentage)\n",
    "    return percentage_meunfan        \n"
   ]
  },
  {
   "cell_type": "code",
   "execution_count": 10,
   "id": "730e9a30",
   "metadata": {
    "deletable": false,
    "editable": false
   },
   "outputs": [
    {
     "data": {
      "text/html": [
       "<p><strong><pre style='display: inline;'>q1_2</pre></strong> passed! 🎉</p>"
      ],
      "text/plain": [
       "q1_2 results: All test cases passed!"
      ]
     },
     "execution_count": 10,
     "metadata": {},
     "output_type": "execute_result"
    }
   ],
   "source": [
    "grader.check(\"q1_2\")"
   ]
  },
  {
   "cell_type": "markdown",
   "id": "30d276a5",
   "metadata": {},
   "source": [
    "In the following cell, we run the function you just defined, `percentages_in_resamples`, and create a histogram of the calculated statistic for the 2,500 bootstrap estimates of the percentage of voters who voted for Meun Fan. Based on what the original Thai restaurant percentages were, does the graph seem reasonable? Talk to a friend or ask a TA if you are unsure!"
   ]
  },
  {
   "cell_type": "code",
   "execution_count": 11,
   "id": "60932d2a",
   "metadata": {},
   "outputs": [
    {
     "data": {
      "image/png": "[encoded data removed]",
      "text/plain": [
       "<Figure size 600x400 with 1 Axes>"
      ]
     },
     "metadata": {},
     "output_type": "display_data"
    }
   ],
   "source": [
    "resampled_percentages = percentages_in_resamples()\n",
    "Table().with_column('Estimated Percentage', resampled_percentages).hist(\"Estimated Percentage\")"
   ]
  },
  {
   "cell_type": "markdown",
   "id": "9bafe3dd",
   "metadata": {
    "deletable": false,
    "editable": false
   },
   "source": [
    "**Question 3.** Using the array `resampled_percentages`, find the values at the two edges of the middle 95% of the bootstrapped percentage estimates. Compute the lower and upper ends of the interval, named `meunfan_lower_bound` and `meunfan_upper_bound` respectively. \n",
    "\n"
   ]
  },
  {
   "cell_type": "code",
   "execution_count": 12,
   "id": "801120d3",
   "metadata": {
    "deletable": false,
    "tags": []
   },
   "outputs": [
    {
     "name": "stdout",
     "output_type": "stream",
     "text": [
      "Bootstrapped 95% confidence interval for the percentage of Meun Fan voters in the population: [49.466667, 54.466667]\n"
     ]
    }
   ],
   "source": [
    "meunfan_lower_bound = percentile(2.5, resampled_percentages)\n",
    "meunfan_upper_bound = percentile( 97.5, resampled_percentages)\n",
    "print(\"Bootstrapped 95% confidence interval for the percentage of Meun Fan voters in the population: [{:f}, {:f}]\".format(meunfan_lower_bound, meunfan_upper_bound))"
   ]
  },
  {
   "cell_type": "code",
   "execution_count": 13,
   "id": "f9736638",
   "metadata": {
    "deletable": false,
    "editable": false
   },
   "outputs": [
    {
     "data": {
      "text/html": [
       "<p><strong><pre style='display: inline;'>q1_3</pre></strong> passed! ✨</p>"
      ],
      "text/plain": [
       "q1_3 results: All test cases passed!"
      ]
     },
     "execution_count": 13,
     "metadata": {},
     "output_type": "execute_result"
    }
   ],
   "source": [
    "grader.check(\"q1_3\")"
   ]
  },
  {
   "cell_type": "markdown",
   "id": "c604acae",
   "metadata": {
    "deletable": false,
    "editable": false
   },
   "source": [
    "\n",
    "\n",
    "**Question 4.** The survey results seem to indicate that Meun Fan is beating all the other Thai restaurants combined among voters. We would like to use confidence intervals to determine a range of likely values for Meun Fan's true lead over all the other restaurants combined. The calculation for Meun Fan's lead over TAP Thai, Empty Bowl, and Your Choice combined is:\n",
    "\n",
    "$$\\text{(Meun Fan's \\% of the vote)} - \\text{(TAP Thai's \\% of the vote + Empty Bowl's \\% of the vote + Your Choice's \\% of the vote  )} $$\n",
    "\n",
    "\n",
    "Define the function `one_resampled_difference` that returns exactly one value of Meun Fan's percentage lead over TAP Thai, Empty Bowl, and Your Choice combined from one bootstrap sample of `tbl`."
   ]
  },
  {
   "cell_type": "code",
   "execution_count": 14,
   "id": "8fa5c293",
   "metadata": {
    "tags": []
   },
   "outputs": [],
   "source": [
    "\n",
    "\n",
    "def one_resampled_difference(tbl):\n",
    "    bootstrap = tbl.sample()\n",
    "    meunfan_percentage =  (np.count_nonzero(bootstrap.column('Vote') == \"Meun Fan\")/votes.num_rows) * 100\n",
    "    tt_percentage = (np.count_nonzero(bootstrap.column('Vote') == \"TAP Thai\")/votes.num_rows) * 100\n",
    "    eb_percentage = (np.count_nonzero(bootstrap.column('Vote') == \"Empty Bowl\")/votes.num_rows) * 100\n",
    "    yc_percentage = (np.count_nonzero(bootstrap.column('Vote') == \"Your Choice\")/votes.num_rows) * 100\n",
    "    return meunfan_percentage - (tt_percentage + eb_percentage + yc_percentage)\n",
    "    "
   ]
  },
  {
   "cell_type": "code",
   "execution_count": 15,
   "id": "0aae44b5",
   "metadata": {
    "deletable": false,
    "editable": false
   },
   "outputs": [
    {
     "data": {
      "text/html": [
       "<p><strong><pre style='display: inline;'>q1_4</pre></strong> passed! 🌈</p>"
      ],
      "text/plain": [
       "q1_4 results: All test cases passed!"
      ]
     },
     "execution_count": 15,
     "metadata": {},
     "output_type": "execute_result"
    }
   ],
   "source": [
    "grader.check(\"q1_4\")"
   ]
  },
  {
   "cell_type": "markdown",
   "id": "78d13cfc",
   "metadata": {
    "deletable": false,
    "editable": false
   },
   "source": [
    "<!-- BEGIN QUESTION -->\n",
    "\n",
    "\n",
    "**Question 5.** Write a function called `leads_in_resamples` that finds 2,500 bootstrapped estimates (the result of calling `one_resampled_difference`) of Meun Fan's lead over TAP Thai, Empty Bowl, and Your Choice combined. Plot a histogram of the resulting samples.\n",
    "\n",
    "*Note: Meun Fan's lead can be negative.*\n"
   ]
  },
  {
   "cell_type": "code",
   "execution_count": 17,
   "id": "ad1e96c0",
   "metadata": {
    "for_assignment_type": "solution",
    "tags": []
   },
   "outputs": [
    {
     "data": {
      "image/png": "[encoded data removed]",
      "text/plain": [
       "<Figure size 600x400 with 1 Axes>"
      ]
     },
     "metadata": {},
     "output_type": "display_data"
    }
   ],
   "source": [
    "\n",
    "def leads_in_resamples():\n",
    "    differences = make_array()\n",
    "    for i in np.arange(2500):\n",
    "        bootstrap_lead = one_resampled_difference(votes)\n",
    "        differences = np.append(differences, bootstrap_lead)\n",
    "    return differences \n",
    "\n",
    "\n",
    "sampled_leads = leads_in_resamples()\n",
    "Table().with_column('Estimated Lead', sampled_leads).hist(\"Estimated Lead\")"
   ]
  },
  {
   "cell_type": "markdown",
   "id": "d9d07cce",
   "metadata": {
    "deletable": false,
    "editable": false
   },
   "source": [
    "<!-- END QUESTION -->\n",
    "\n",
    "\n",
    "**Question 6.** Use the simulated data from Question 5 to compute an approximate 95% confidence interval for Meun Fan's true lead over TAP Thai, Empty Bowl, and Your Choice combined.\n"
   ]
  },
  {
   "cell_type": "code",
   "execution_count": 18,
   "id": "d8d12b5d",
   "metadata": {
    "deletable": false,
    "tags": []
   },
   "outputs": [
    {
     "name": "stdout",
     "output_type": "stream",
     "text": [
      "Bootstrapped 95% confidence interval for Meun Fan's true lead over TAP Thai, Empty Bowl, and Your Choice combined: [-1.066667, 8.933333]\n"
     ]
    }
   ],
   "source": [
    "diff_lower_bound = percentile(2.5, sampled_leads)\n",
    "diff_upper_bound = percentile(97.5, sampled_leads)\n",
    "print(\"Bootstrapped 95% confidence interval for Meun Fan's true lead over TAP Thai, Empty Bowl, and Your Choice combined: [{:f}, {:f}]\".format(diff_lower_bound, diff_upper_bound))"
   ]
  },
  {
   "cell_type": "code",
   "execution_count": 19,
   "id": "cc5291be",
   "metadata": {
    "deletable": false,
    "editable": false
   },
   "outputs": [
    {
     "data": {
      "text/html": [
       "<p><strong><pre style='display: inline;'>q1_6</pre></strong> passed! 🍀</p>"
      ],
      "text/plain": [
       "q1_6 results: All test cases passed!"
      ]
     },
     "execution_count": 19,
     "metadata": {},
     "output_type": "execute_result"
    }
   ],
   "source": [
    "grader.check(\"q1_6\")"
   ]
  },
  {
   "cell_type": "markdown",
   "id": "a9ff3c0a",
   "metadata": {},
   "source": [
    "## 2. Interpreting Confidence Intervals "
   ]
  },
  {
   "cell_type": "markdown",
   "id": "9691f599",
   "metadata": {},
   "source": [
    "The staff computed the following 95% confidence interval for the percentage of Meun Fan voters: \n",
    "\n",
    "$$[49.40, 54.47]$$\n",
    "\n",
    "(Your answer may have been a bit different due to randomness; that doesn't mean it was wrong!)"
   ]
  },
  {
   "cell_type": "markdown",
   "id": "41f1fc18-c996-477c-ace5-2535aa94d18e",
   "metadata": {
    "deletable": false,
    "editable": false
   },
   "source": [
    "<!-- BEGIN QUESTION -->\n",
    "\n",
    "**Question 1**\n",
    "Can we say there is a 95% probability that the interval [49.40, 54.47] contains the true percentage of the population that votes for Meun Fan as the best Santa Barbara/Goleta Thai restaurant? Answer \"yes\" or \"no\" and explain your reasoning.\n",
    "\n",
    "Note: ambiguous answers using language like \"sometimes\" or \"maybe\" will not receive credit."
   ]
  },
  {
   "cell_type": "markdown",
   "id": "f87446c2",
   "metadata": {},
   "source": [
    "_Type your answer here, replacing this text._"
   ]
  },
  {
   "cell_type": "markdown",
   "id": "8c61a713",
   "metadata": {
    "deletable": false,
    "editable": false
   },
   "source": [
    "<!-- END QUESTION -->\n",
    "\n",
    "<!-- BEGIN QUESTION -->\n",
    "\n",
    "**Question 2.** \n",
    "The staff also created 70%, 90%, and 99% confidence intervals from the same sample, but we forgot to label which confidence interval represented which percentages! Match each confidence level (70%, 90%, 99%) with its corresponding interval in the cell below (e.g. __ % CI: [49.87, 54.0] $\\rightarrow$ replace the blank with one of the three confidence levels). Then, explain your thought process and how you came up with your answers.\n",
    "\n",
    "The intervals are below:\n",
    "\n",
    "[49.87, 54.00]\n",
    "[50.67, 53.27]\n",
    "[48.80, 55.40]\n",
    "\n"
   ]
  },
  {
   "cell_type": "markdown",
   "id": "fdec3b37",
   "metadata": {},
   "source": [
    "[50.67, 53.27] : 70 % \n",
    "\n",
    "[49.87, 54.00] : 90%\n",
    "\n",
    "[48.80, 55.40] : 99% "
   ]
  },
  {
   "cell_type": "markdown",
   "id": "8176d8d4",
   "metadata": {
    "deletable": false,
    "editable": false
   },
   "source": [
    "<!-- END QUESTION -->\n",
    "\n",
    "**Question 3.** \n",
    "\n",
    "Suppose we produced 5,000 new samples (each one a uniform random sample of 1,500 voters/students) from the population and created a 95% confidence interval from each one. Roughly how many of those 5,000 intervals do you expect will actually contain the true percentage of the population?\n",
    "\n",
    "Assign your answer to `true_percentage_intervals`."
   ]
  },
  {
   "cell_type": "code",
   "execution_count": 20,
   "id": "6e84dc58",
   "metadata": {
    "deletable": false,
    "tags": []
   },
   "outputs": [],
   "source": [
    "true_percentage_intervals = 4750"
   ]
  },
  {
   "cell_type": "code",
   "execution_count": 21,
   "id": "d55f2953",
   "metadata": {
    "deletable": false,
    "editable": false
   },
   "outputs": [
    {
     "data": {
      "text/html": [
       "<p><strong><pre style='display: inline;'>q2_3</pre></strong> passed! 🌟</p>"
      ],
      "text/plain": [
       "q2_3 results: All test cases passed!"
      ]
     },
     "execution_count": 21,
     "metadata": {},
     "output_type": "execute_result"
    }
   ],
   "source": [
    "grader.check(\"q2_3\")"
   ]
  },
  {
   "cell_type": "markdown",
   "id": "07d06bef",
   "metadata": {},
   "source": [
    "Recall the second bootstrap confidence interval you created, which estimated Meun Fan's lead over TAP Thai, Empty Bowl, and Your Choice combined. Among voters in the sample, Meun Fan's lead was 4%. The staff's 95% confidence interval for the true lead (in the population of all voters) was\n",
    "$$[-.80, 8.80]$$\n",
    "\n",
    "Suppose we are interested in testing a simple yes-or-no question:\n",
    "\n",
    "> \"Is the percentage of votes for Meun Fan tied with the percentage of votes for TAP Thai, Empty Bowl, and Your Choice combined?\"\n",
    "\n",
    "Our null hypothesis is that the percentages are equal, or equivalently, that Meun Fan's lead is exactly 0. Our alternative hypothesis is that Meun Fan's lead is not equal to 0. In the questions below, don't compute any confidence interval yourself - use only the staff's 95% confidence interval."
   ]
  },
  {
   "cell_type": "markdown",
   "id": "48bc78f9",
   "metadata": {
    "deletable": false,
    "editable": false
   },
   "source": [
    "**Question 4** \n",
    "Say we use a 5% p-value cutoff. Do we reject the null, fail to reject the null, or are we unable to tell using the staff's confidence interval? \n",
    "\n",
    "Assign `restaurants_tied` to the number corresponding to the correct answer.\n",
    "\n",
    "1. Reject the null / Data is consistent with the alternative hypothesis\n",
    "2. Fail to reject the null / Data is consistent with the null hypothesis\n",
    "3. Unable to tell using our staff confidence interval\n",
    "\n",
    "\n",
    "\n",
    "\n",
    "*Hint:* If you're confused, take a look at [this chapter](https://inferentialthinking.com/chapters/13/4/Using_Confidence_Intervals.html). \n"
   ]
  },
  {
   "cell_type": "code",
   "execution_count": 22,
   "id": "4e294f26",
   "metadata": {
    "deletable": false,
    "tags": []
   },
   "outputs": [],
   "source": [
    "resturants_tied = 2"
   ]
  },
  {
   "cell_type": "code",
   "execution_count": 23,
   "id": "4e0eb505",
   "metadata": {
    "deletable": false,
    "editable": false
   },
   "outputs": [
    {
     "data": {
      "text/html": [
       "<p><strong><pre style='display: inline;'>q2_4</pre></strong> passed! 💯</p>"
      ],
      "text/plain": [
       "q2_4 results: All test cases passed!"
      ]
     },
     "execution_count": 23,
     "metadata": {},
     "output_type": "execute_result"
    }
   ],
   "source": [
    "grader.check(\"q2_4\")"
   ]
  },
  {
   "cell_type": "markdown",
   "id": "26085d99",
   "metadata": {
    "deletable": false,
    "editable": false
   },
   "source": [
    "**Question 5.** What if, instead, we use a p-value cutoff of 1%? Do we reject the null, fail to reject the null, or are we unable to tell using our staff confidence interval? \n",
    "\n",
    "Assign `cutoff_one_percent` to the number corresponding to the correct answer.\n",
    "\n",
    "1. Reject the null / Data is consistent with the alternative hypothesis\n",
    "2. Fail to reject the null / Data is consistent with the null hypothesis\n",
    "3. Unable to tell using our staff confidence interval\n"
   ]
  },
  {
   "cell_type": "code",
   "execution_count": 24,
   "id": "b5e83728",
   "metadata": {
    "deletable": false,
    "tags": []
   },
   "outputs": [],
   "source": [
    "cutoff_one_percent = 2"
   ]
  },
  {
   "cell_type": "code",
   "execution_count": 25,
   "id": "6ffd55ef",
   "metadata": {
    "deletable": false,
    "editable": false
   },
   "outputs": [
    {
     "data": {
      "text/html": [
       "<p><strong><pre style='display: inline;'>q2_5</pre></strong> passed! 🎉</p>"
      ],
      "text/plain": [
       "q2_5 results: All test cases passed!"
      ]
     },
     "execution_count": 25,
     "metadata": {},
     "output_type": "execute_result"
    }
   ],
   "source": [
    "grader.check(\"q2_5\")"
   ]
  },
  {
   "cell_type": "markdown",
   "id": "e79c8efd",
   "metadata": {
    "deletable": false,
    "editable": false
   },
   "source": [
    "**Question 6** What if we use a p-value cutoff of 10%? Do we reject, fail to reject, or are we unable to tell using our confidence interval? \n",
    "\n",
    "Assign `cutoff_ten_percent` to the number corresponding to the correct answer.\n",
    "\n",
    "1. Reject the null / Data is consistent with the alternative hypothesis\n",
    "2. Fail to reject the null / Data is consistent with the null hypothesis\n",
    "3. Unable to tell using our staff confidence interval\n"
   ]
  },
  {
   "cell_type": "code",
   "execution_count": 26,
   "id": "d5f1fa73",
   "metadata": {
    "deletable": false,
    "tags": []
   },
   "outputs": [],
   "source": [
    "cutoff_ten_percent = 3"
   ]
  },
  {
   "cell_type": "code",
   "execution_count": 27,
   "id": "f86e4969",
   "metadata": {
    "deletable": false,
    "editable": false
   },
   "outputs": [
    {
     "data": {
      "text/html": [
       "<p><strong><pre style='display: inline;'>q2_6</pre></strong> passed! ✨</p>"
      ],
      "text/plain": [
       "q2_6 results: All test cases passed!"
      ]
     },
     "execution_count": 27,
     "metadata": {},
     "output_type": "execute_result"
    }
   ],
   "source": [
    "grader.check(\"q2_6\")"
   ]
  },
  {
   "cell_type": "markdown",
   "id": "15d3c964",
   "metadata": {},
   "source": [
    "# 3. Submit your work\n",
    "\n",
    "Before you submit your work, \n",
    "* Make sure you **save the notebook** first, \n",
    "* Then go up to the `Kernel` menu and select `Restart & Clear Output` (make sure the notebook is saved first, because otherwise, you will lose all your work!). \n",
    "* Now, go to `Cell -> Run All`. Carefully look through your notebook and verify that all computations execute correctly. You should see **no errors**; if there are any errors, make sure to correct them before you submit the notebook.\n",
    "* Then, go to `File -> Download as -> Notebook` and download the notebook to your own computer. ([Please verify](https://ucsb-ds.github.io/ds1-f20/troubleshooting/#i-downloaded-the-notebook-file-but-it-saves-as-the-ipynbjson-extension-so-whenever-i-upload-it-to-gradescope-it-fails) that it got saved as an `.ipynb` file.)\n",
    "* Upload the notebook to [Gradescope](https://www.gradescope.com/).\n",
    "\n",
    "Congratulations! You are done!"
   ]
  },
  {
   "cell_type": "markdown",
   "id": "400b3793",
   "metadata": {
    "deletable": false,
    "editable": false
   },
   "source": [
    "---\n",
    "\n",
    "To double-check your work, the cell below will rerun all of the autograder tests."
   ]
  },
  {
   "cell_type": "code",
   "execution_count": null,
   "id": "1f221a2d",
   "metadata": {
    "deletable": false,
    "editable": false
   },
   "outputs": [],
   "source": [
    "grader.check_all()"
   ]
  }
 ],
 "metadata": {
  "celltoolbar": "Edit Metadata",
  "kernelspec": {
   "display_name": "Python 3 (ipykernel)",
   "language": "python",
   "name": "python3"
  },
  "language_info": {
   "codemirror_mode": {
    "name": "ipython",
    "version": 3
   },
   "file_extension": ".py",
   "mimetype": "text/x-python",
   "name": "python",
   "nbconvert_exporter": "python",
   "pygments_lexer": "ipython3",
   "version": "3.11.5"
  }
 },
 "nbformat": 4,
 "nbformat_minor": 5
}
