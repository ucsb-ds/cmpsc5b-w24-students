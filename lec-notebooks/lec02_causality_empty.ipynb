{
 "cells": [
  {
   "cell_type": "code",
   "execution_count": null,
   "metadata": {
    "tags": []
   },
   "outputs": [],
   "source": [
    "from datascience import *\n",
    "import numpy as np\n",
    "\n",
    "%matplotlib inline\n",
    "import matplotlib.pyplot as plots\n",
    "plots.style.use('fivethirtyeight')"
   ]
  },
  {
   "cell_type": "markdown",
   "metadata": {},
   "source": [
    "## Review: Comparing Two Samples"
   ]
  },
  {
   "cell_type": "code",
   "execution_count": null,
   "metadata": {
    "tags": []
   },
   "outputs": [],
   "source": [
    "def difference_of_means(table, numeric_label, group_label):\n",
    "    \"\"\"\n",
    "    Takes: name of table, column label of numerical variable,\n",
    "    column label of group-label variable\n",
    "    \n",
    "    Returns: Difference of means of the two groups\n",
    "    \"\"\"\n",
    "    \n",
    "    #table with the two relevant columns\n",
    "    reduced = table.select(numeric_label, group_label)  \n",
    "    \n",
    "    # table containing group means\n",
    "    means_table = reduced.group(group_label, np.average)\n",
    "    \n",
    "    # array of group means\n",
    "    means = means_table.column(1)\n",
    "    \n",
    "    return means.item(1) - means.item(0)"
   ]
  },
  {
   "cell_type": "code",
   "execution_count": null,
   "metadata": {
    "tags": []
   },
   "outputs": [],
   "source": [
    "def one_simulated_difference(table, numeric_label, group_label):\n",
    "    \"\"\"\n",
    "    Takes: name of table, column label of numerical variable,\n",
    "    column label of group-label variable\n",
    "    \n",
    "    Returns: Difference of means of the two groups after shuffling labels\n",
    "    \"\"\"\n",
    "    \n",
    "    # array of shuffled labels\n",
    "    shuffled_labels = table.sample(with_replacement = False).column(group_label)\n",
    "    \n",
    "    # table of numerical variable and shuffled labels\n",
    "    shuffled_table = table.select(numeric_label).with_column('Shuffled Label', shuffled_labels)\n",
    "    \n",
    "    return difference_of_means(shuffled_table, numeric_label, 'Shuffled Label')   "
   ]
  },
  {
   "cell_type": "code",
   "execution_count": null,
   "metadata": {
    "tags": []
   },
   "outputs": [],
   "source": [
    "births = Table.read_table('data/baby.csv')"
   ]
  },
  {
   "cell_type": "code",
   "execution_count": null,
   "metadata": {
    "tags": []
   },
   "outputs": [],
   "source": [
    "births.group('Maternal Smoker', np.average)"
   ]
  },
  {
   "cell_type": "markdown",
   "metadata": {},
   "source": [
    "# Randomized Control Experiment"
   ]
  },
  {
   "cell_type": "code",
   "execution_count": null,
   "metadata": {
    "tags": []
   },
   "outputs": [],
   "source": [
    "botox = Table.read_table('data/bta.csv')\n",
    "botox.show()"
   ]
  },
  {
   "cell_type": "markdown",
   "metadata": {},
   "source": [
    "# Task:\n",
    "- Summarize the dataset: show the unique combinations\n",
    "    - How many people got treatment and experienced improvements?\n",
    "    - How many people got placebo and experienced improvements?\n",
    "    - How many people got treatment and didnt experienced improvements?\n",
    "    - How many people got placebo and didnt experienced improvements?\n",
    "- Calculate the share of improvements per group"
   ]
  },
  {
   "cell_type": "code",
   "execution_count": null,
   "metadata": {},
   "outputs": [],
   "source": []
  },
  {
   "cell_type": "markdown",
   "metadata": {},
   "source": [
    "## Tickets\n",
    "is the distribution of the \n",
    "\n",
    "- 31 “treatment” values in Column 1 (including the unknown ones) \n",
    "different from the distribution of the \n",
    "- 31 “control” values in Column 2 (again including the unknown ones)?"
   ]
  },
  {
   "cell_type": "code",
   "execution_count": null,
   "metadata": {
    "tags": []
   },
   "outputs": [],
   "source": [
    "botox = botox.with_column('Outcome if assigned treatment', botox.column('Result'))\n",
    "botox.column('Outcome if assigned treatment')[botox.column('Group') != 'Treatment'] = np.nan\n",
    "\n",
    "botox = botox.with_column('Outcome if assigned control', botox.column('Result'))\n",
    "botox.column('Outcome if assigned control')[botox.column('Group') != 'Control'] = np.nan\n",
    "\n",
    "botox.show()"
   ]
  },
  {
   "cell_type": "code",
   "execution_count": null,
   "metadata": {},
   "outputs": [],
   "source": []
  },
  {
   "cell_type": "markdown",
   "metadata": {},
   "source": [
    "# Testing the Hypothesis"
   ]
  },
  {
   "cell_type": "code",
   "execution_count": null,
   "metadata": {
    "tags": []
   },
   "outputs": [],
   "source": [
    "observed_diff = difference_of_means(botox, 'Result', 'Group')\n",
    "observed_diff"
   ]
  },
  {
   "cell_type": "code",
   "execution_count": null,
   "metadata": {},
   "outputs": [],
   "source": []
  },
  {
   "cell_type": "code",
   "execution_count": null,
   "metadata": {
    "tags": []
   },
   "outputs": [],
   "source": [
    "one_simulated_difference(botox, 'Result', 'Group')"
   ]
  },
  {
   "cell_type": "code",
   "execution_count": null,
   "metadata": {},
   "outputs": [],
   "source": []
  },
  {
   "cell_type": "markdown",
   "metadata": {},
   "source": [
    "# Task: \n",
    "1. Simulate the difference 10k times\n",
    "1. Create a table containing the simulations\n",
    "1. Plot the histogram\n",
    "    - Question: in which direction is the alternative?\n",
    "    - Where on the histogram is the *observed* difference?\n",
    "    - Bonus: Add the observed difference as a dot into the histogram (use `plots.scatter()`).\n",
    "1. Calculate the p-value ([hint](https://inferentialthinking.com/chapters/12/1/AB_Testing.html#conclusion-of-the-test))\n",
    "1. Choose a p-value cutoff"
   ]
  },
  {
   "cell_type": "code",
   "execution_count": null,
   "metadata": {},
   "outputs": [],
   "source": []
  }
 ],
 "metadata": {
  "kernelspec": {
   "display_name": "Python 3 (ipykernel)",
   "language": "python",
   "name": "python3"
  },
  "language_info": {
   "codemirror_mode": {
    "name": "ipython",
    "version": 3
   },
   "file_extension": ".py",
   "mimetype": "text/x-python",
   "name": "python",
   "nbconvert_exporter": "python",
   "pygments_lexer": "ipython3",
   "version": "3.10.12"
  },
  "toc": {
   "base_numbering": 1,
   "nav_menu": {},
   "number_sections": true,
   "sideBar": true,
   "skip_h1_title": false,
   "title_cell": "Table of Contents",
   "title_sidebar": "Contents",
   "toc_cell": false,
   "toc_position": {},
   "toc_section_display": true,
   "toc_window_display": false
  }
 },
 "nbformat": 4,
 "nbformat_minor": 4
}
