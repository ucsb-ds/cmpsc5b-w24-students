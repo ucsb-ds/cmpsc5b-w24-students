{
 "cells": [
  {
   "cell_type": "code",
   "execution_count": 1,
   "metadata": {
    "tags": []
   },
   "outputs": [],
   "source": [
    "from datascience import *\n",
    "import numpy as np\n",
    "\n",
    "%matplotlib inline\n",
    "import matplotlib.pyplot as plots\n",
    "plots.style.use('fivethirtyeight')"
   ]
  },
  {
   "cell_type": "markdown",
   "metadata": {},
   "source": [
    "# Students Flipping Fair Coins Conclude Coin is Unfair!\n",
    "\n",
    "Suppose there are 2000 students. Each student:\n",
    "\n",
    "- is given a fair coin by the instructor but they are not told that it is a fair coin\n",
    "- collects data by flipping the coin **100 times** and counts the number of times it lands *Heads*\n",
    "- runs a **hypothesis test**:\n",
    "    - **Null Hypothesis**: They were givne a fair coin and the number of heads observed see is due to chance.\n",
    "    - **Alternative Hypothesis**: The coin is biased and so the number of heads they observed is not due to chance alone.\n",
    "    - **Test Statistic**: abs(num_heads - 50)\n",
    "- runs 1000 simulations of flipping a fair coin 100 times (using Python)\n",
    "- reports their p-value and rejects the null hypothesis if their p-value is less than 0.05\n",
    "\n",
    "We know that we gave all of them fair coints. How often will they incorrectly reject the null hypothesis?\n",
    "\n",
    "Could you write code to simulate the process of one student running this hypothesis test?"
   ]
  },
  {
   "cell_type": "markdown",
   "metadata": {
    "tags": []
   },
   "source": [
    "## Simulating the Simulation\n",
    "In the following we will use simulation to simulate the students running a simulation. Very meta!\n",
    "\n",
    "1. simulate one coin flip `np.random.choice()`\n",
    "2. simulate 100 coin flips\n",
    "3. calculate the observed test statistic\n",
    "4. simulate one the statistic under the null hypothesis\n",
    "5. simulate 1000x from null hypothesis\n",
    "6. calculate p-value"
   ]
  },
  {
   "cell_type": "code",
   "execution_count": 2,
   "metadata": {
    "tags": []
   },
   "outputs": [
    {
     "data": {
      "text/plain": [
       "'H'"
      ]
     },
     "execution_count": 2,
     "metadata": {},
     "output_type": "execute_result"
    }
   ],
   "source": [
    "# One coin flip\n",
    "np.random.choice([\"H\", \"T\"])"
   ]
  },
  {
   "cell_type": "code",
   "execution_count": 3,
   "metadata": {
    "tags": []
   },
   "outputs": [
    {
     "data": {
      "text/plain": [
       "array(['H', 'T', 'T', 'T', 'H', 'H', 'T', 'H', 'H', 'H', 'T', 'H', 'H',\n",
       "       'T', 'H', 'H', 'T', 'H', 'H', 'T', 'H', 'H', 'H', 'H', 'T', 'T',\n",
       "       'H', 'T', 'H', 'T', 'T', 'H', 'T', 'H', 'H', 'T', 'H', 'T', 'T',\n",
       "       'H', 'T', 'T', 'T', 'T', 'T', 'T', 'T', 'H', 'T', 'T', 'H', 'T',\n",
       "       'T', 'T', 'T', 'T', 'H', 'T', 'T', 'H', 'T', 'H', 'T', 'H', 'T',\n",
       "       'H', 'T', 'H', 'H', 'T', 'T', 'H', 'H', 'T', 'T', 'H', 'H', 'H',\n",
       "       'H', 'T', 'T', 'T', 'H', 'T', 'H', 'T', 'T', 'T', 'T', 'H', 'T',\n",
       "       'H', 'H', 'T', 'T', 'T', 'T', 'H', 'H', 'T'],\n",
       "      dtype='<U1')"
      ]
     },
     "execution_count": 3,
     "metadata": {},
     "output_type": "execute_result"
    }
   ],
   "source": [
    "# Student Collects Data by actually flipping the coin (we simualte here)\n",
    "# its fair coin but we didn't tell the studnet\n",
    "\n",
    "num_coin_flips = 100\n",
    "obs_flips = np.random.choice([\"H\", \"T\"], num_coin_flips) \n",
    "obs_flips"
   ]
  },
  {
   "cell_type": "code",
   "execution_count": 4,
   "metadata": {
    "tags": []
   },
   "outputs": [
    {
     "name": "stdout",
     "output_type": "stream",
     "text": [
      "45\n"
     ]
    },
    {
     "data": {
      "text/plain": [
       "5.0"
      ]
     },
     "execution_count": 4,
     "metadata": {},
     "output_type": "execute_result"
    }
   ],
   "source": [
    "# Calculate Test statistics\n",
    "\n",
    "num_heads = sum(obs_flips == \"H\")\n",
    "print(num_heads)\n",
    "np.abs(num_heads - num_coin_flips/2) # find absolute value/distance from 50"
   ]
  },
  {
   "cell_type": "code",
   "execution_count": 5,
   "metadata": {
    "tags": []
   },
   "outputs": [
    {
     "data": {
      "text/plain": [
       "7.0"
      ]
     },
     "execution_count": 5,
     "metadata": {},
     "output_type": "execute_result"
    }
   ],
   "source": [
    "# Function to simulate coin flips and calculate statistic\n",
    "\n",
    "def simulate_one_statistic():\n",
    "    sim_flips = np.random.choice([\"H\", \"T\"], num_coin_flips)\n",
    "    num_heads = sum(sim_flips == \"H\")\n",
    "    sim_statistic = np.abs(num_heads - num_coin_flips/2)    \n",
    "    return sim_statistic\n",
    "\n",
    "simulate_one_statistic()"
   ]
  },
  {
   "cell_type": "code",
   "execution_count": 6,
   "metadata": {
    "tags": []
   },
   "outputs": [
    {
     "data": {
      "text/plain": [
       "0.20000000000000001"
      ]
     },
     "execution_count": 6,
     "metadata": {},
     "output_type": "execute_result"
    }
   ],
   "source": [
    "# calculate p-value\n",
    "\n",
    "obs_statistic = simulate_one_statistic()\n",
    "\n",
    "# Hypothesis Test: Simulate from Null hypothesis\n",
    "num_simulations = 1000\n",
    "simulated_statistics = make_array()\n",
    "for i in np.arange(num_simulations):  # Simulate 2000 trials  \n",
    "    one_statistic = simulate_one_statistic()\n",
    "    simulated_statistics = np.append(simulated_statistics, one_statistic)\n",
    "\n",
    "# Compute the P Value\n",
    "p_value = sum(simulated_statistics >= obs_statistic) / num_simulations\n",
    "p_value"
   ]
  },
  {
   "cell_type": "code",
   "execution_count": 7,
   "metadata": {
    "tags": []
   },
   "outputs": [
    {
     "data": {
      "text/plain": [
       "0.20899999999999999"
      ]
     },
     "execution_count": 7,
     "metadata": {},
     "output_type": "execute_result"
    }
   ],
   "source": [
    "def simulate_one_hypothesis_test():    \n",
    "    obs_statistic = simulate_one_statistic()\n",
    "    \n",
    "    # Hypothesis Test: Simulate from Null hypothesis\n",
    "    simulated_statistics = make_array()\n",
    "    for i in np.arange(num_simulations):  # Simulate 2000 trials  \n",
    "        one_statistic = simulate_one_statistic()\n",
    "        simulated_statistics = np.append(simulated_statistics, one_statistic)\n",
    "        \n",
    "    # Compute the P Value\n",
    "    p_value = sum(simulated_statistics >= obs_statistic) / num_simulations    \n",
    "    return p_value\n",
    "\n",
    "\n",
    "simulate_one_hypothesis_test()"
   ]
  },
  {
   "cell_type": "markdown",
   "metadata": {},
   "source": [
    "### Simulate all students running the experiment"
   ]
  },
  {
   "cell_type": "code",
   "execution_count": 8,
   "metadata": {
    "tags": []
   },
   "outputs": [],
   "source": [
    "n_students = 2000\n",
    "all_students = make_array()\n",
    "\n",
    "for i in np.arange(n_students):\n",
    "    all_students = np.append(all_students, simulate_one_hypothesis_test())"
   ]
  },
  {
   "cell_type": "markdown",
   "metadata": {},
   "source": [
    "## Plot the p-values\n",
    "\n",
    "You would seldom do this in practice, but here we can visualize the distribution of p-values that all the students in the class get. Some will conclude that they have an unfair coin.\n",
    "\n"
   ]
  },
  {
   "cell_type": "code",
   "execution_count": 9,
   "metadata": {
    "tags": []
   },
   "outputs": [
    {
     "data": {
      "image/png": "[encoded data removed]",
      "text/plain": [
       "<Figure size 600x400 with 1 Axes>"
      ]
     },
     "metadata": {},
     "output_type": "display_data"
    }
   ],
   "source": [
    "tbl = Table().with_column(\"P Values\", all_students)\n",
    "tbl.hist(\"P Values\", bins=np.arange(0, 1, 0.01), right_end=0.05)"
   ]
  },
  {
   "cell_type": "markdown",
   "metadata": {
    "tags": []
   },
   "source": [
    "## Number of students who would reject the null"
   ]
  },
  {
   "cell_type": "code",
   "execution_count": 11,
   "metadata": {
    "tags": []
   },
   "outputs": [
    {
     "name": "stdout",
     "output_type": "stream",
     "text": [
      "71  would falsely reject the null hypothesis.\n"
     ]
    }
   ],
   "source": [
    "print(sum(all_students < 0.05), \" would falsely reject the null hypothesis.\")"
   ]
  },
  {
   "cell_type": "code",
   "execution_count": 12,
   "metadata": {},
   "outputs": [
    {
     "data": {
      "text/plain": [
       "100.0"
      ]
     },
     "execution_count": 12,
     "metadata": {},
     "output_type": "execute_result"
    }
   ],
   "source": [
    ".05 * 2000"
   ]
  },
  {
   "cell_type": "markdown",
   "metadata": {},
   "source": [
    "---"
   ]
  },
  {
   "cell_type": "markdown",
   "metadata": {},
   "source": [
    "# Super Soda Co and the Case of Bad Taste\n",
    "Manufacturers of Super Soda run a taste test and 91 out of 200 tasters prefer Super Soda over its rival. The boss is upset! He asks:\n",
    "\n",
    "Do fewer people prefer Super Soda, or is this just chance?\n",
    "\n",
    "You run a hypothesis test:\n",
    "\n",
    "Null Hypothesis: Equal proportions of the population prefer Super Soda as Rival and any variability is due to chance.\n",
    "Alternative Hypothesis: Fewer people in the population prefer Super Soda than its Rival.\n",
    "Test Statistic: Number of people who prefer Super Soda\n",
    "You pick a p-value cutoff of 0.05"
   ]
  },
  {
   "cell_type": "code",
   "execution_count": 13,
   "metadata": {
    "tags": []
   },
   "outputs": [],
   "source": [
    "obs_statistic = 91"
   ]
  },
  {
   "cell_type": "code",
   "execution_count": 17,
   "metadata": {
    "tags": []
   },
   "outputs": [
    {
     "data": {
      "text/plain": [
       "104"
      ]
     },
     "execution_count": 17,
     "metadata": {},
     "output_type": "execute_result"
    }
   ],
   "source": [
    "def simulate_one_count(sample_size): # simulating under the null\n",
    "    simulated_data = np.random.choice(['Super', 'Rival'], sample_size)\n",
    "    simulated_statistic = np.count_nonzero(simulated_data == \"Super\")\n",
    "    return simulated_statistic\n",
    "simulate_one_count(200)"
   ]
  },
  {
   "cell_type": "code",
   "execution_count": 24,
   "metadata": {},
   "outputs": [
    {
     "data": {
      "text/plain": [
       "1"
      ]
     },
     "execution_count": 24,
     "metadata": {},
     "output_type": "execute_result"
    }
   ],
   "source": [
    "np.count_nonzero(make_array(True, False))"
   ]
  },
  {
   "cell_type": "code",
   "execution_count": 25,
   "metadata": {},
   "outputs": [
    {
     "data": {
      "text/plain": [
       "1"
      ]
     },
     "execution_count": 25,
     "metadata": {},
     "output_type": "execute_result"
    }
   ],
   "source": [
    "np.count_nonzero(make_array(1, 0))"
   ]
  },
  {
   "cell_type": "code",
   "execution_count": 22,
   "metadata": {},
   "outputs": [
    {
     "data": {
      "text/plain": [
       "1"
      ]
     },
     "execution_count": 22,
     "metadata": {},
     "output_type": "execute_result"
    }
   ],
   "source": [
    "sum(make_array(True, False)) # True = 1, False = 0"
   ]
  },
  {
   "cell_type": "code",
   "execution_count": 23,
   "metadata": {},
   "outputs": [
    {
     "data": {
      "text/plain": [
       "1"
      ]
     },
     "execution_count": 23,
     "metadata": {},
     "output_type": "execute_result"
    }
   ],
   "source": [
    "sum(make_array(1,0))"
   ]
  },
  {
   "cell_type": "code",
   "execution_count": 18,
   "metadata": {
    "tags": []
   },
   "outputs": [],
   "source": [
    "num_simulations = 10_000\n",
    "counts = make_array()\n",
    "for i in np.arange(num_simulations):\n",
    "    counts = np.append(counts, simulate_one_count(200))"
   ]
  },
  {
   "cell_type": "code",
   "execution_count": 19,
   "metadata": {
    "tags": []
   },
   "outputs": [
    {
     "data": {
      "image/png": "[encoded data removed]",
      "text/plain": [
       "<Figure size 600x400 with 1 Axes>"
      ]
     },
     "metadata": {},
     "output_type": "display_data"
    }
   ],
   "source": [
    "trials = Table().with_column('Number of Super Soda Preferences', counts)\n",
    "trials.hist(right_end=91)\n",
    "plots.ylim(-0.001, 0.055)\n",
    "plots.scatter(91, 0, color='red', s=40, zorder=3)\n",
    "plots.title('Prediction Under the Null');"
   ]
  },
  {
   "cell_type": "code",
   "execution_count": 20,
   "metadata": {
    "tags": []
   },
   "outputs": [
    {
     "name": "stdout",
     "output_type": "stream",
     "text": [
      "The p-value is 0.1144\n"
     ]
    }
   ],
   "source": [
    "p_value = np.count_nonzero(counts <= 91)/len(counts)\n",
    "print(\"The p-value is\", p_value)"
   ]
  },
  {
   "cell_type": "markdown",
   "metadata": {},
   "source": [
    "## Changing the number of simulations\n",
    "What happens if we run a different number of simulations?"
   ]
  },
  {
   "cell_type": "code",
   "execution_count": 26,
   "metadata": {
    "tags": []
   },
   "outputs": [],
   "source": [
    "# Keeping the data fixed, we can re-run the test with a new simulation under the null\n",
    "def simulate_null(num_simulations, sample_size):\n",
    "    counts = make_array()\n",
    "    for i in np.arange(num_simulations):\n",
    "        counts = np.append(counts, simulate_one_count(sample_size))\n",
    "    return counts"
   ]
  },
  {
   "cell_type": "code",
   "execution_count": 27,
   "metadata": {
    "tags": []
   },
   "outputs": [],
   "source": [
    "# Keeping the data fixed, we can re-run the test with a new simulation under the null\n",
    "def run_test(num_simulations, sample_size, obs_statistic):\n",
    "    counts = simulate_null(num_simulations, sample_size)\n",
    "    # compute the p value\n",
    "    p_value = np.count_nonzero(counts <= obs_statistic)/len(counts)\n",
    "    return p_value"
   ]
  },
  {
   "cell_type": "markdown",
   "metadata": {
    "tags": []
   },
   "source": [
    "### Simulating the Simulation (Again)\n",
    "We can again run multiple simulations of our simulation."
   ]
  },
  {
   "cell_type": "code",
   "execution_count": 28,
   "metadata": {
    "tags": []
   },
   "outputs": [
    {
     "data": {
      "text/html": [
       "<table border=\"1\" class=\"dataframe\">\n",
       "    <thead>\n",
       "        <tr>\n",
       "            <th>simulations</th> <th>p-value for 91</th>\n",
       "        </tr>\n",
       "    </thead>\n",
       "    <tbody>\n",
       "        <tr>\n",
       "            <td>100        </td> <td>0.09          </td>\n",
       "        </tr>\n",
       "        <tr>\n",
       "            <td>1000       </td> <td>0.105         </td>\n",
       "        </tr>\n",
       "        <tr>\n",
       "            <td>10000      </td> <td>0.1195        </td>\n",
       "        </tr>\n",
       "    </tbody>\n",
       "</table>\n",
       "<p>... (297 rows omitted)</p>"
      ],
      "text/plain": [
       "<IPython.core.display.HTML object>"
      ]
     },
     "metadata": {},
     "output_type": "display_data"
    }
   ],
   "source": [
    "# Let's repeat that 100 times for each number of simulations\n",
    "tests = Table(['simulations', 'p-value for 91'])\n",
    "for k in np.arange(100): # will run the simulation 100 times\n",
    "    for num_sims in [100, 1000, 10000]: \n",
    "        p_value = run_test(num_sims, 200, 91)\n",
    "        tests = tests.with_row([num_sims, p_value])\n",
    "tests.show(3)"
   ]
  },
  {
   "cell_type": "code",
   "execution_count": 29,
   "metadata": {
    "tags": []
   },
   "outputs": [
    {
     "data": {
      "image/png": "[encoded data removed]",
      "text/plain": [
       "<Figure size 600x400 with 1 Axes>"
      ]
     },
     "metadata": {},
     "output_type": "display_data"
    }
   ],
   "source": [
    "# For larger numbers of simulations, p-values are more consistent\n",
    "tests.hist(\"p-value for 91\", group='simulations', bins=20)"
   ]
  },
  {
   "cell_type": "markdown",
   "metadata": {
    "tags": []
   },
   "source": [
    "### Law of Large Number\n",
    "The reason the p-values concentrate towards the true p-value is that the emprical distribution under the null is better approximates by increasing the number of simulations. More is better!"
   ]
  },
  {
   "cell_type": "code",
   "execution_count": 30,
   "metadata": {
    "tags": []
   },
   "outputs": [
    {
     "data": {
      "image/png": "[encoded data removed]",
      "text/plain": [
       "<Figure size 600x400 with 1 Axes>"
      ]
     },
     "metadata": {},
     "output_type": "display_data"
    }
   ],
   "source": [
    "t1 = Table().with_columns(\"Number of Super Soda Preferences\", simulate_null(100, 200),\n",
    "                           \"Simulation Size\", 100)\n",
    "\n",
    "t2 = Table().with_columns(\"Number of Super Soda Preferences\", simulate_null(100_000, 200),\n",
    "                           \"Simulation Size\", 100_000)\n",
    "\n",
    "t1.append(t2).hist(group='Simulation Size', bins=np.arange(70.5, 131, 1))"
   ]
  },
  {
   "cell_type": "markdown",
   "metadata": {},
   "source": [
    "## The Importance of Sample Size\n",
    "Larger samples give us more information about the population and also allow us to test more subtle differences.\n",
    "\n",
    "Suppose that the true proportion of people who prefer Super Soda is 45%"
   ]
  },
  {
   "cell_type": "code",
   "execution_count": 32,
   "metadata": {},
   "outputs": [
    {
     "data": {
      "text/plain": [
       "90.0"
      ]
     },
     "execution_count": 32,
     "metadata": {},
     "output_type": "execute_result"
    }
   ],
   "source": [
    ".45*200"
   ]
  },
  {
   "cell_type": "code",
   "execution_count": 31,
   "metadata": {
    "tags": []
   },
   "outputs": [
    {
     "data": {
      "text/plain": [
       "array([ 0.45,  0.55])"
      ]
     },
     "execution_count": 31,
     "metadata": {},
     "output_type": "execute_result"
    }
   ],
   "source": [
    "true_proportion = 0.45\n",
    "true_distribution = make_array(true_proportion, 1 - true_proportion)\n",
    "true_distribution"
   ]
  },
  {
   "cell_type": "markdown",
   "metadata": {},
   "source": [
    "Taste tests with 200 people will give varioius numbers of people who prefer Super Soda"
   ]
  },
  {
   "cell_type": "code",
   "execution_count": 33,
   "metadata": {},
   "outputs": [
    {
     "name": "stdout",
     "output_type": "stream",
     "text": [
      "Help on function sample_proportions in module datascience.util:\n",
      "\n",
      "sample_proportions(sample_size, probabilities)\n",
      "    Return the proportion of random draws for each outcome in a distribution.\n",
      "    \n",
      "    This function is similar to np.random.multinomial, but returns proportions\n",
      "    instead of counts.\n",
      "    \n",
      "    Args:\n",
      "        ``sample_size``: The size of the sample to draw from the distribution.\n",
      "    \n",
      "        ``probabilities``: An array of probabilities that forms a distribution.\n",
      "    \n",
      "    Returns:\n",
      "        An array with the same length as ``probability`` that sums to 1.\n",
      "\n"
     ]
    }
   ],
   "source": [
    "help(sample_proportions)"
   ]
  },
  {
   "cell_type": "code",
   "execution_count": 34,
   "metadata": {
    "tags": []
   },
   "outputs": [
    {
     "data": {
      "text/plain": [
       "array([  93.,  107.])"
      ]
     },
     "execution_count": 34,
     "metadata": {},
     "output_type": "execute_result"
    }
   ],
   "source": [
    "sample_size = 200\n",
    "sample_proportions(sample_size, true_distribution) * sample_size"
   ]
  },
  {
   "cell_type": "code",
   "execution_count": 35,
   "metadata": {
    "tags": []
   },
   "outputs": [
    {
     "data": {
      "text/plain": [
       "0.0021"
      ]
     },
     "execution_count": 35,
     "metadata": {},
     "output_type": "execute_result"
    }
   ],
   "source": [
    "# If you run a taste test for 200 people, what might you conclude?\n",
    "def run_experiment(num_simulations, sample_size, true_proportion):\n",
    "    # Collect data\n",
    "    true_distribution = make_array(true_proportion, 1 - true_proportion)\n",
    "    taste_test_results = sample_proportions(sample_size, true_distribution) * sample_size\n",
    "    observed_stat_from_this_sample = taste_test_results.item(0)\n",
    "    \n",
    "    # Conduct hypothesis test\n",
    "    p_value = run_test(num_simulations, sample_size, observed_stat_from_this_sample)\n",
    "    return p_value\n",
    "\n",
    "run_experiment(10000, 200, 0.45)"
   ]
  },
  {
   "cell_type": "markdown",
   "metadata": {},
   "source": [
    "Try using different values for the true_proportion and sample size. What happens to as the true proportion gets closer to 0.5? What happens if we increase the sample size."
   ]
  },
  {
   "cell_type": "code",
   "execution_count": 38,
   "metadata": {
    "tags": []
   },
   "outputs": [
    {
     "name": "stdout",
     "output_type": "stream",
     "text": [
      "Percent that correctly reject the null 60.0\n"
     ]
    },
    {
     "data": {
      "image/png": "[encoded data removed]",
      "text/plain": [
       "<Figure size 600x400 with 1 Axes>"
      ]
     },
     "metadata": {},
     "output_type": "display_data"
    }
   ],
   "source": [
    "# Let's imagine running our taste test over and over again to see how often we reject the null\n",
    "true_proportion = 0.45\n",
    "sample_size = 400\n",
    "p_values = make_array()\n",
    "for k in np.arange(100):\n",
    "    p_value = run_experiment(1000, sample_size, true_proportion)\n",
    "    p_values = np.append(p_values, p_value)\n",
    "Table().with_column('P-value', p_values).hist(0, right_end=0.05, bins=np.arange(0,1,0.1))\n",
    "print(\"Percent that correctly reject the null\", 100*np.mean(p_values <= 0.05))"
   ]
  },
  {
   "cell_type": "markdown",
   "metadata": {},
   "source": [
    "# Example: Benford's Law\n",
    "\n",
    "https://en.wikipedia.org/wiki/Benford%27s_law"
   ]
  },
  {
   "cell_type": "code",
   "execution_count": 39,
   "metadata": {
    "tags": []
   },
   "outputs": [],
   "source": [
    "digits = np.arange(1, 10)\n",
    "benford_model = np.log10(1 + 1/digits)"
   ]
  },
  {
   "cell_type": "code",
   "execution_count": 40,
   "metadata": {
    "tags": []
   },
   "outputs": [
    {
     "data": {
      "image/png": "[encoded data removed]",
      "text/plain": [
       "<Figure size 600x450 with 1 Axes>"
      ]
     },
     "metadata": {},
     "output_type": "display_data"
    }
   ],
   "source": [
    "benford = Table().with_columns(\n",
    "    'First digit', digits,\n",
    "    'Benford model prob', benford_model)\n",
    "benford.barh('First digit')"
   ]
  },
  {
   "cell_type": "code",
   "execution_count": 41,
   "metadata": {
    "tags": []
   },
   "outputs": [],
   "source": [
    "# You don't have to understand how this function works, since it uses Python features from beyond Data 8.\n",
    "def first_digit(num):\n",
    "    return int(str(num)[0])"
   ]
  },
  {
   "cell_type": "code",
   "execution_count": 42,
   "metadata": {
    "tags": []
   },
   "outputs": [
    {
     "data": {
      "text/plain": [
       "3"
      ]
     },
     "execution_count": 42,
     "metadata": {},
     "output_type": "execute_result"
    }
   ],
   "source": [
    "first_digit(32)"
   ]
  },
  {
   "cell_type": "code",
   "execution_count": 43,
   "metadata": {
    "scrolled": true,
    "tags": []
   },
   "outputs": [
    {
     "data": {
      "text/plain": [
       "1"
      ]
     },
     "execution_count": 43,
     "metadata": {},
     "output_type": "execute_result"
    }
   ],
   "source": [
    "first_digit(17719087)"
   ]
  },
  {
   "cell_type": "code",
   "execution_count": 44,
   "metadata": {
    "tags": []
   },
   "outputs": [
    {
     "data": {
      "text/html": [
       "<table border=\"1\" class=\"dataframe\">\n",
       "    <thead>\n",
       "        <tr>\n",
       "            <th>State</th> <th>County</th> <th>Population</th>\n",
       "        </tr>\n",
       "    </thead>\n",
       "    <tbody>\n",
       "        <tr>\n",
       "            <td>Alabama</td> <td>Autauga County</td> <td>54684     </td>\n",
       "        </tr>\n",
       "        <tr>\n",
       "            <td>Alabama</td> <td>Baldwin County</td> <td>183216    </td>\n",
       "        </tr>\n",
       "        <tr>\n",
       "            <td>Alabama</td> <td>Barbour County</td> <td>27336     </td>\n",
       "        </tr>\n",
       "    </tbody>\n",
       "</table>\n",
       "<p>... (3139 rows omitted)</p>"
      ],
      "text/plain": [
       "<IPython.core.display.HTML object>"
      ]
     },
     "metadata": {},
     "output_type": "display_data"
    }
   ],
   "source": [
    "# County populations from the census data\n",
    "counties = Table.read_table('data/counties.csv')\n",
    "counties = counties.where('SUMLEV', 50).select(5,6,9).relabeled(0,'State').relabeled(1,'County').relabeled(2,'Population')\n",
    "counties.show(3)"
   ]
  },
  {
   "cell_type": "code",
   "execution_count": 46,
   "metadata": {
    "tags": []
   },
   "outputs": [
    {
     "data": {
      "text/html": [
       "<table border=\"1\" class=\"dataframe\">\n",
       "    <thead>\n",
       "        <tr>\n",
       "            <th>State</th> <th>County</th> <th>Population</th> <th>First digit</th>\n",
       "        </tr>\n",
       "    </thead>\n",
       "    <tbody>\n",
       "        <tr>\n",
       "            <td>Alabama</td> <td>Autauga County  </td> <td>54684     </td> <td>5          </td>\n",
       "        </tr>\n",
       "        <tr>\n",
       "            <td>Alabama</td> <td>Baldwin County  </td> <td>183216    </td> <td>1          </td>\n",
       "        </tr>\n",
       "        <tr>\n",
       "            <td>Alabama</td> <td>Barbour County  </td> <td>27336     </td> <td>2          </td>\n",
       "        </tr>\n",
       "        <tr>\n",
       "            <td>Alabama</td> <td>Bibb County     </td> <td>22879     </td> <td>2          </td>\n",
       "        </tr>\n",
       "        <tr>\n",
       "            <td>Alabama</td> <td>Blount County   </td> <td>57344     </td> <td>5          </td>\n",
       "        </tr>\n",
       "        <tr>\n",
       "            <td>Alabama</td> <td>Bullock County  </td> <td>10886     </td> <td>1          </td>\n",
       "        </tr>\n",
       "        <tr>\n",
       "            <td>Alabama</td> <td>Butler County   </td> <td>20945     </td> <td>2          </td>\n",
       "        </tr>\n",
       "        <tr>\n",
       "            <td>Alabama</td> <td>Calhoun County  </td> <td>118443    </td> <td>1          </td>\n",
       "        </tr>\n",
       "        <tr>\n",
       "            <td>Alabama</td> <td>Chambers County </td> <td>34111     </td> <td>3          </td>\n",
       "        </tr>\n",
       "        <tr>\n",
       "            <td>Alabama</td> <td>Cherokee County </td> <td>25968     </td> <td>2          </td>\n",
       "        </tr>\n",
       "        <tr>\n",
       "            <td>Alabama</td> <td>Chilton County  </td> <td>43682     </td> <td>4          </td>\n",
       "        </tr>\n",
       "        <tr>\n",
       "            <td>Alabama</td> <td>Choctaw County  </td> <td>13849     </td> <td>1          </td>\n",
       "        </tr>\n",
       "        <tr>\n",
       "            <td>Alabama</td> <td>Clarke County   </td> <td>25782     </td> <td>2          </td>\n",
       "        </tr>\n",
       "        <tr>\n",
       "            <td>Alabama</td> <td>Clay County     </td> <td>13886     </td> <td>1          </td>\n",
       "        </tr>\n",
       "        <tr>\n",
       "            <td>Alabama</td> <td>Cleburne County </td> <td>14969     </td> <td>1          </td>\n",
       "        </tr>\n",
       "        <tr>\n",
       "            <td>Alabama</td> <td>Coffee County   </td> <td>50179     </td> <td>5          </td>\n",
       "        </tr>\n",
       "        <tr>\n",
       "            <td>Alabama</td> <td>Colbert County  </td> <td>54505     </td> <td>5          </td>\n",
       "        </tr>\n",
       "        <tr>\n",
       "            <td>Alabama</td> <td>Conecuh County  </td> <td>13219     </td> <td>1          </td>\n",
       "        </tr>\n",
       "        <tr>\n",
       "            <td>Alabama</td> <td>Coosa County    </td> <td>11757     </td> <td>1          </td>\n",
       "        </tr>\n",
       "        <tr>\n",
       "            <td>Alabama</td> <td>Covington County</td> <td>37784     </td> <td>3          </td>\n",
       "        </tr>\n",
       "    </tbody>\n",
       "</table>\n",
       "<p>... (3122 rows omitted)</p>"
      ],
      "text/plain": [
       "<IPython.core.display.HTML object>"
      ]
     },
     "metadata": {},
     "output_type": "display_data"
    }
   ],
   "source": [
    "first_digits = counties.apply(first_digit, 'Population')\n",
    "counties = counties.with_column('First digit', first_digits)\n",
    "counties.show(20)"
   ]
  },
  {
   "cell_type": "code",
   "execution_count": 47,
   "metadata": {
    "tags": []
   },
   "outputs": [],
   "source": [
    "num_counties = counties.num_rows"
   ]
  },
  {
   "cell_type": "code",
   "execution_count": 48,
   "metadata": {
    "tags": []
   },
   "outputs": [
    {
     "data": {
      "image/png": "[encoded data removed]",
      "text/plain": [
       "<Figure size 600x450 with 1 Axes>"
      ]
     },
     "metadata": {},
     "output_type": "display_data"
    }
   ],
   "source": [
    "by_digit = counties.group('First digit')\n",
    "proportions = by_digit.column('count')/num_counties\n",
    "by_digit = by_digit.with_columns(\n",
    "    'Proportion', proportions,\n",
    "    'Benford proportion', benford_model\n",
    ")\n",
    "by_digit.drop('count').barh('First digit')"
   ]
  },
  {
   "cell_type": "markdown",
   "metadata": {},
   "source": [
    "Null hypothesis:  the match up with  the bendfrd model is due to chance"
   ]
  },
  {
   "cell_type": "markdown",
   "metadata": {},
   "source": [
    "Alternative hypothesis:  similarities in our counties' proportion and Benford's model are consistent "
   ]
  },
  {
   "cell_type": "markdown",
   "metadata": {},
   "source": [
    "Test statistic: ___\n",
    "\n",
    "Fill in the blank with \"Bigger\" or \"Smaller\":\n",
    "\n",
    "___ values of the test statistic favor the alternative"
   ]
  },
  {
   "cell_type": "code",
   "execution_count": null,
   "metadata": {
    "tags": []
   },
   "outputs": [],
   "source": [
    "observed_tvd = sum(abs(proportions - benford_model))/2\n",
    "observed_tvd\n",
    "print(proportions)\n",
    "print(benford_model)"
   ]
  },
  {
   "cell_type": "code",
   "execution_count": null,
   "metadata": {
    "tags": []
   },
   "outputs": [],
   "source": [
    "sample_proportions(num_counties, benford_model)"
   ]
  },
  {
   "cell_type": "code",
   "execution_count": null,
   "metadata": {
    "tags": []
   },
   "outputs": [],
   "source": [
    "simulated_frequencies = sample_proportions(num_counties, benford_model)\n",
    "tvd = sum(abs(simulated_frequencies - benford_model))/2\n",
    "tvd"
   ]
  },
  {
   "cell_type": "code",
   "execution_count": null,
   "metadata": {
    "tags": []
   },
   "outputs": [],
   "source": [
    "def simulate_county_first_digits():\n",
    "    simulated_frequencies = sample_proportions(num_counties, benford_model)\n",
    "    tvd = sum(abs(simulated_frequencies - benford_model))/2\n",
    "    return tvd"
   ]
  },
  {
   "cell_type": "code",
   "execution_count": null,
   "metadata": {
    "tags": []
   },
   "outputs": [],
   "source": [
    "simulated_tvds = make_array()\n",
    "\n",
    "for i in np.arange(10000):\n",
    "    simulated_tvds = np.append(simulated_tvds, simulate_county_first_digits())"
   ]
  },
  {
   "cell_type": "code",
   "execution_count": null,
   "metadata": {
    "tags": []
   },
   "outputs": [],
   "source": [
    "Table().with_column('Simulated TVD', simulated_tvds).hist(0)"
   ]
  },
  {
   "cell_type": "code",
   "execution_count": null,
   "metadata": {
    "tags": []
   },
   "outputs": [],
   "source": [
    "np.count_nonzero(simulated_tvds >= observed_tvd) / 10000"
   ]
  },
  {
   "cell_type": "markdown",
   "metadata": {},
   "source": [
    "Are the data consistent with the null hypothesis?"
   ]
  },
  {
   "cell_type": "markdown",
   "metadata": {},
   "source": [
    "## Example: sleep survey"
   ]
  },
  {
   "cell_type": "code",
   "execution_count": null,
   "metadata": {
    "tags": []
   },
   "outputs": [],
   "source": [
    "survey = Table.read_table('data/sleep_survey.csv')\n",
    "survey"
   ]
  },
  {
   "cell_type": "code",
   "execution_count": null,
   "metadata": {
    "tags": []
   },
   "outputs": [],
   "source": [
    "def simplify(sleep_position):\n",
    "    if sleep_position == 'On your left side' or sleep_position == 'On your right side':\n",
    "        return 'side'\n",
    "    else:\n",
    "        return 'back or stomach'\n",
    "    \n",
    "survey = survey.with_column(\n",
    "    'position',\n",
    "    survey.apply(simplify, 'Sleep position')\n",
    ").select('position', 'Hours of sleep')\n",
    "\n",
    "survey"
   ]
  },
  {
   "cell_type": "code",
   "execution_count": null,
   "metadata": {
    "tags": []
   },
   "outputs": [],
   "source": [
    "survey.group('position', np.average)"
   ]
  },
  {
   "cell_type": "markdown",
   "metadata": {},
   "source": [
    "Null hypothesis:  Any differences between average hours of sleep between back/stomach sleepersor side sleepers is due to chance"
   ]
  },
  {
   "cell_type": "markdown",
   "metadata": {},
   "source": [
    "Alternative hypothesis:  \n",
    "\n",
    "Back/stomach sleepers on average get more sleep than side sleepers\n"
   ]
  },
  {
   "cell_type": "markdown",
   "metadata": {},
   "source": [
    "Test statistic:\n",
    "\n",
    "__ Average hours of sleep for back/stomach - Average hours of sleep for side __\n",
    "__ Asolute value of (Average hours of sleepfor back/stomach - Average hours of sleep for side) __\n",
    "\n",
    "\n",
    "\n",
    "Fill in the blank with \"Bigger\" or \"Smaller\":\n",
    "\n",
    "__ Larger __ values of the test statistic favor the alternative"
   ]
  },
  {
   "cell_type": "code",
   "execution_count": null,
   "metadata": {
    "tags": []
   },
   "outputs": [],
   "source": [
    "def compute_test_statistic(tbl):\n",
    "    grouped = tbl.group('position', np.average)\n",
    "    avgs = grouped.column('Hours of sleep average')\n",
    "    return avgs.item(1) - avgs.item(0)"
   ]
  },
  {
   "cell_type": "code",
   "execution_count": null,
   "metadata": {
    "tags": []
   },
   "outputs": [],
   "source": [
    "obs_test_stat = compute_test_statistic(survey)\n",
    "obs_test_stat"
   ]
  },
  {
   "cell_type": "code",
   "execution_count": null,
   "metadata": {
    "tags": []
   },
   "outputs": [],
   "source": [
    "random_labels = survey.sample(with_replacement=False).column('position')"
   ]
  },
  {
   "cell_type": "code",
   "execution_count": null,
   "metadata": {
    "tags": []
   },
   "outputs": [],
   "source": [
    "def simulate_under_null():\n",
    "    random_labels = survey.sample(with_replacement=False).column('position')\n",
    "    relabeled_tbl = survey.with_column('position', random_labels)\n",
    "    return compute_test_statistic(relabeled_tbl)\n"
   ]
  },
  {
   "cell_type": "code",
   "execution_count": null,
   "metadata": {
    "scrolled": true,
    "tags": []
   },
   "outputs": [],
   "source": [
    "simulated_diffs = make_array()\n",
    "for i in np.arange(1000):\n",
    "    null_stat = simulate_under_null()\n",
    "    simulated_diffs = np.append(simulated_diffs, null_stat)"
   ]
  },
  {
   "cell_type": "code",
   "execution_count": null,
   "metadata": {
    "tags": []
   },
   "outputs": [],
   "source": [
    "Table().with_column('Simulated difference', simulated_diffs).hist(0)"
   ]
  },
  {
   "cell_type": "code",
   "execution_count": null,
   "metadata": {
    "tags": []
   },
   "outputs": [],
   "source": [
    "obs_test_stat"
   ]
  },
  {
   "cell_type": "code",
   "execution_count": null,
   "metadata": {
    "tags": []
   },
   "outputs": [],
   "source": [
    "np.mean(simulated_diffs <= obs_test_stat)"
   ]
  },
  {
   "cell_type": "markdown",
   "metadata": {},
   "source": [
    "Are the data consistent with the null hypothesis?"
   ]
  }
 ],
 "metadata": {
  "kernelspec": {
   "display_name": "Python 3 (ipykernel)",
   "language": "python",
   "name": "python3"
  },
  "language_info": {
   "codemirror_mode": {
    "name": "ipython",
    "version": 3
   },
   "file_extension": ".py",
   "mimetype": "text/x-python",
   "name": "python",
   "nbconvert_exporter": "python",
   "pygments_lexer": "ipython3",
   "version": "3.11.5"
  },
  "toc": {
   "base_numbering": 1,
   "nav_menu": {},
   "number_sections": false,
   "sideBar": true,
   "skip_h1_title": false,
   "title_cell": "Table of Contents",
   "title_sidebar": "Contents",
   "toc_cell": false,
   "toc_position": {},
   "toc_section_display": true,
   "toc_window_display": true
  }
 },
 "nbformat": 4,
 "nbformat_minor": 4
}
