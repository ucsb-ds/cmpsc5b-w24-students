{
 "cells": [
  {
   "cell_type": "code",
   "execution_count": null,
   "metadata": {
    "tags": []
   },
   "outputs": [],
   "source": [
    "from datascience import *\n",
    "import numpy as np\n",
    "\n",
    "%matplotlib inline\n",
    "import matplotlib.pyplot as plots\n",
    "plots.style.use('fivethirtyeight')"
   ]
  },
  {
   "cell_type": "markdown",
   "metadata": {},
   "source": [
    "# Students Flipping Fair Coins Conclude Coin is Unfair!\n",
    "\n",
    "Suppose there are 2000 students. Each student:\n",
    "\n",
    "- is given a fair coin by the instructor but they are not told that it is a fair coin\n",
    "- collects data by flipping the coin **100 times** and counts the number of times it lands *Heads*\n",
    "- runs a **hypothesis test**:\n",
    "    - **Null Hypothesis**: They were givne a fair coin and the number of heads observed see is due to chance.\n",
    "    - **Alternative Hypothesis**: The coin is biased and so the number of heads they observed is not due to chance alone.\n",
    "    - **Test Statistic**: abs(num_heads - 50)\n",
    "- runs 1000 simulations of flipping a fair coin 100 times (using Python)\n",
    "- reports their p-value and rejects the null hypothesis if their p-value is less than 0.05\n",
    "\n",
    "We know that we gave all of them fair coints. How often will they incorrectly reject the null hypothesis?\n",
    "\n",
    "Could you write code to simulate the process of one student running this hypothesis test?"
   ]
  },
  {
   "cell_type": "markdown",
   "metadata": {
    "tags": []
   },
   "source": [
    "## Simulating the Simulation\n",
    "In the following we will use simulation to simulate the students running a simulation. Very meta!\n",
    "\n",
    "1. simulate one coin flip `np.random.choice()`\n",
    "2. simulate 100 coin flips\n",
    "3. calculate the observed test statistic\n",
    "4. simulate one the statistic under the null hypothesis\n",
    "5. simulate 1000x from null hypothesis\n",
    "6. calculate p-value"
   ]
  },
  {
   "cell_type": "code",
   "execution_count": null,
   "metadata": {},
   "outputs": [],
   "source": []
  },
  {
   "cell_type": "markdown",
   "metadata": {},
   "source": [
    "### Simulate all students running the experiment"
   ]
  },
  {
   "cell_type": "code",
   "execution_count": null,
   "metadata": {},
   "outputs": [],
   "source": []
  },
  {
   "cell_type": "markdown",
   "metadata": {},
   "source": [
    "## Plot the p-values\n",
    "\n",
    "You would seldom do this in practice, but here we can visualize the distribution of p-values that all the students in the class get. Some will conclude that they have an unfair coin.\n",
    "\n"
   ]
  },
  {
   "cell_type": "code",
   "execution_count": null,
   "metadata": {
    "tags": []
   },
   "outputs": [],
   "source": [
    "tbl = Table().with_column(\"P Values\", all_students)\n",
    "tbl.hist(\"P Values\", bins=np.arange(0, 1, 0.01), right_end=0.05)"
   ]
  },
  {
   "cell_type": "markdown",
   "metadata": {
    "tags": []
   },
   "source": [
    "## Number of students who would reject the null"
   ]
  },
  {
   "cell_type": "markdown",
   "metadata": {},
   "source": [
    "---"
   ]
  },
  {
   "cell_type": "markdown",
   "metadata": {},
   "source": [
    "# Super Soda Co and the Case of Bad Taste\n",
    "Manufacturers of Super Soda run a taste test and 91 out of 200 tasters prefer Super Soda over its rival. The boss is upset! He asks:\n",
    "\n",
    "Do fewer people prefer Super Soda, or is this just chance?\n",
    "\n",
    "You run a hypothesis test:\n",
    "\n",
    "Null Hypothesis: Equal proportions of the population prefer Super Soda as Rival and any variability is due to chance.\n",
    "Alternative Hypothesis: Fewer people in the population prefer Super Soda than its Rival.\n",
    "Test Statistic: Number of people who prefer Super Soda\n",
    "You pick a p-value cutoff of 0.05"
   ]
  },
  {
   "cell_type": "code",
   "execution_count": null,
   "metadata": {
    "tags": []
   },
   "outputs": [],
   "source": [
    "obs_statistic = 91"
   ]
  },
  {
   "cell_type": "code",
   "execution_count": null,
   "metadata": {},
   "outputs": [],
   "source": []
  },
  {
   "cell_type": "code",
   "execution_count": null,
   "metadata": {
    "tags": []
   },
   "outputs": [],
   "source": [
    "trials = Table().with_column('Number of Super Soda Preferences', counts)\n",
    "trials.hist(right_end=91)\n",
    "plots.ylim(-0.001, 0.055)\n",
    "plots.scatter(obs_statistic, 0, color='red', s=40, zorder=3)\n",
    "plots.title('Prediction Under the Null');"
   ]
  },
  {
   "cell_type": "markdown",
   "metadata": {},
   "source": [
    "## Changing the number of simulations\n",
    "What happens if we run a different number of simulations?"
   ]
  },
  {
   "cell_type": "markdown",
   "metadata": {
    "tags": []
   },
   "source": [
    "### Simulating the Simulation (Again)\n",
    "We can again run multiple simulations of our simulation."
   ]
  },
  {
   "cell_type": "code",
   "execution_count": null,
   "metadata": {
    "tags": []
   },
   "outputs": [],
   "source": [
    "# For larger numbers of simulations, p-values are more consistent\n",
    "tests.hist(\"p-value for 91\", group='simulations', bins=20)"
   ]
  },
  {
   "cell_type": "markdown",
   "metadata": {
    "tags": []
   },
   "source": [
    "### Law of Large Number\n",
    "The reason the p-values concentrate towards the true p-value is that the emprical distribution under the null is better approximates by increasing the number of simulations. More is better!"
   ]
  },
  {
   "cell_type": "code",
   "execution_count": null,
   "metadata": {
    "tags": []
   },
   "outputs": [],
   "source": [
    "t1 = Table().with_columns(\"Number of Super Soda Preferences\", simulate_null(100, 200),\n",
    "                           \"Simulation Size\", 100)\n",
    "\n",
    "t2 = Table().with_columns(\"Number of Super Soda Preferences\", simulate_null(100_000, 200),\n",
    "                           \"Simulation Size\", 100_000)\n",
    "\n",
    "t1.append(t2).hist(group='Simulation Size', bins=np.arange(70.5, 131, 1))"
   ]
  },
  {
   "cell_type": "markdown",
   "metadata": {},
   "source": [
    "## The Importance of Sample Size\n",
    "Larger samples give us more information about the population and also allow us to test more subtle differences.\n",
    "\n",
    "Suppose that the true proportion of people who prefer Super Soda is 45%"
   ]
  },
  {
   "cell_type": "code",
   "execution_count": null,
   "metadata": {
    "tags": []
   },
   "outputs": [],
   "source": [
    "true_proportion = 0.45\n",
    "true_distribution = make_array(true_proportion, 1 - true_proportion)\n",
    "true_distribution"
   ]
  },
  {
   "cell_type": "markdown",
   "metadata": {},
   "source": [
    "Taste tests with 200 people will give varioius numbers of people who prefer Super Soda"
   ]
  },
  {
   "cell_type": "code",
   "execution_count": null,
   "metadata": {
    "tags": []
   },
   "outputs": [],
   "source": [
    "sample_size = 200\n",
    "sample_proportions(sample_size, true_distribution) * sample_size"
   ]
  },
  {
   "cell_type": "code",
   "execution_count": null,
   "metadata": {
    "tags": []
   },
   "outputs": [],
   "source": [
    "# If you run a taste test for 200 people, what might you conclude?\n",
    "def run_experiment(num_simulations, sample_size, true_proportion):\n",
    "    # Collect data\n",
    "    true_distribution = make_array(true_proportion, 1 - true_proportion)\n",
    "    taste_test_results = sample_proportions(sample_size, true_distribution) * sample_size\n",
    "    observed_stat_from_this_sample = taste_test_results.item(0)\n",
    "    \n",
    "    # Conduct hypothesis test\n",
    "    p_value = run_test(num_simulations, sample_size, observed_stat_from_this_sample)\n",
    "    return p_value\n",
    "\n",
    "run_experiment(10000, 200, 0.45)"
   ]
  },
  {
   "cell_type": "markdown",
   "metadata": {},
   "source": [
    "Try using different values for the true_proportion and sample size. What happens to as the true proportion gets closer to 0.5? What happens if we increase the sample size."
   ]
  },
  {
   "cell_type": "code",
   "execution_count": null,
   "metadata": {
    "tags": []
   },
   "outputs": [],
   "source": [
    "# Let's imagine running our taste test over and over again to see how often we reject the null\n",
    "true_proportion = 0.45\n",
    "sample_size = 100\n",
    "p_values = make_array()\n",
    "for k in np.arange(100):\n",
    "    p_value = run_experiment(1000, sample_size, true_proportion)\n",
    "    p_values = np.append(p_values, p_value)\n",
    "Table().with_column('P-value', p_values).hist(0, right_end=0.05, bins=np.arange(0,1,0.1))\n",
    "print(\"Percent that correctly reject the null\", 100*np.mean(p_values <= 0.05))"
   ]
  },
  {
   "cell_type": "markdown",
   "metadata": {},
   "source": [
    "# Example: Benford's Law\n",
    "\n",
    "https://en.wikipedia.org/wiki/Benford%27s_law"
   ]
  },
  {
   "cell_type": "code",
   "execution_count": null,
   "metadata": {
    "tags": []
   },
   "outputs": [],
   "source": [
    "digits = np.arange(1, 10)\n",
    "benford_model = np.log10(1 + 1/digits)"
   ]
  },
  {
   "cell_type": "code",
   "execution_count": null,
   "metadata": {
    "tags": []
   },
   "outputs": [],
   "source": [
    "benford = Table().with_columns(\n",
    "    'First digit', digits,\n",
    "    'Benford model prob', benford_model)\n",
    "benford.barh('First digit')"
   ]
  },
  {
   "cell_type": "code",
   "execution_count": null,
   "metadata": {
    "tags": []
   },
   "outputs": [],
   "source": [
    "# You don't have to understand how this function works, since it uses Python features from beyond Data 8.\n",
    "def first_digit(num):\n",
    "    return int(str(num)[0])"
   ]
  },
  {
   "cell_type": "code",
   "execution_count": null,
   "metadata": {
    "tags": []
   },
   "outputs": [],
   "source": [
    "# County populations from the census data\n",
    "counties = Table.read_table('data/counties.csv')\n",
    "counties = counties.where('SUMLEV', 50).select(5,6,9).relabeled(0,'State').relabeled(1,'County').relabeled(2,'Population')\n",
    "counties.show(3)"
   ]
  },
  {
   "cell_type": "code",
   "execution_count": null,
   "metadata": {
    "tags": []
   },
   "outputs": [],
   "source": [
    "first_digits = counties.apply(first_digit, 'Population')\n",
    "counties = counties.with_column('First digit', first_digits)\n",
    "counties.show(3)"
   ]
  },
  {
   "cell_type": "code",
   "execution_count": null,
   "metadata": {
    "tags": []
   },
   "outputs": [],
   "source": [
    "num_counties = counties.num_rows"
   ]
  },
  {
   "cell_type": "code",
   "execution_count": null,
   "metadata": {
    "tags": []
   },
   "outputs": [],
   "source": [
    "by_digit = counties.group('First digit')\n",
    "proportions = by_digit.column('count')/num_counties\n",
    "by_digit = by_digit.with_columns(\n",
    "    'Proportion', proportions,\n",
    "    'Benford proportion', benford_model\n",
    ")\n",
    "by_digit.drop('count').barh('First digit')"
   ]
  },
  {
   "cell_type": "markdown",
   "metadata": {},
   "source": [
    "Null hypothesis:  the match up with  the bendfrd model is due to chance"
   ]
  },
  {
   "cell_type": "markdown",
   "metadata": {},
   "source": [
    "Alternative hypothesis:  similarities in our counties' proportion and Benford's model are "
   ]
  },
  {
   "cell_type": "markdown",
   "metadata": {},
   "source": [
    "Test statistic: ___\n",
    "\n",
    "Fill in the blank with \"Bigger\" or \"Smaller\":\n",
    "\n",
    "___ values of the test statistic favor the alternative"
   ]
  },
  {
   "cell_type": "code",
   "execution_count": null,
   "metadata": {
    "tags": []
   },
   "outputs": [],
   "source": [
    "observed_tvd = sum(abs(proportions - benford_model))/2\n",
    "observed_tvd\n",
    "print(proportions)\n",
    "print(benford_model)"
   ]
  },
  {
   "cell_type": "code",
   "execution_count": null,
   "metadata": {
    "tags": []
   },
   "outputs": [],
   "source": [
    "sample_proportions(num_counties, benford_model)"
   ]
  },
  {
   "cell_type": "code",
   "execution_count": null,
   "metadata": {
    "tags": []
   },
   "outputs": [],
   "source": [
    "simulated_frequencies = sample_proportions(num_counties, benford_model)\n",
    "tvd = sum(abs(simulated_frequencies - benford_model))/2\n",
    "tvd"
   ]
  },
  {
   "cell_type": "code",
   "execution_count": null,
   "metadata": {
    "tags": []
   },
   "outputs": [],
   "source": [
    "def simulate_county_first_digits():\n",
    "    simulated_frequencies = sample_proportions(num_counties, benford_model)\n",
    "    tvd = sum(abs(simulated_frequencies - benford_model))/2\n",
    "    return tvd"
   ]
  },
  {
   "cell_type": "code",
   "execution_count": null,
   "metadata": {
    "tags": []
   },
   "outputs": [],
   "source": [
    "simulated_tvds = make_array()\n",
    "\n",
    "for i in np.arange(10000):\n",
    "    simulated_tvds = np.append(simulated_tvds, simulate_county_first_digits())"
   ]
  },
  {
   "cell_type": "code",
   "execution_count": null,
   "metadata": {
    "tags": []
   },
   "outputs": [],
   "source": [
    "Table().with_column('Simulated TVD', simulated_tvds).hist(0)"
   ]
  },
  {
   "cell_type": "code",
   "execution_count": null,
   "metadata": {
    "tags": []
   },
   "outputs": [],
   "source": [
    "np.count_nonzero(simulated_tvds >= observed_tvd) / 10000"
   ]
  },
  {
   "cell_type": "markdown",
   "metadata": {},
   "source": [
    "Are the data consistent with the null hypothesis?"
   ]
  },
  {
   "cell_type": "markdown",
   "metadata": {},
   "source": [
    "## Example: sleep survey"
   ]
  },
  {
   "cell_type": "code",
   "execution_count": null,
   "metadata": {
    "tags": []
   },
   "outputs": [],
   "source": [
    "survey = Table.read_table('data/sleep_survey.csv')\n",
    "survey"
   ]
  },
  {
   "cell_type": "code",
   "execution_count": null,
   "metadata": {
    "tags": []
   },
   "outputs": [],
   "source": [
    "def simplify(sleep_position):\n",
    "    if sleep_position == 'On your left side' or sleep_position == 'On your right side':\n",
    "        return 'side'\n",
    "    else:\n",
    "        return 'back or stomach'\n",
    "    \n",
    "survey = survey.with_column(\n",
    "    'position',\n",
    "    survey.apply(simplify, 'Sleep position')\n",
    ").select('position', 'Hours of sleep')\n",
    "\n",
    "survey"
   ]
  },
  {
   "cell_type": "code",
   "execution_count": null,
   "metadata": {
    "tags": []
   },
   "outputs": [],
   "source": [
    "survey.group('position', np.average)"
   ]
  },
  {
   "cell_type": "markdown",
   "metadata": {},
   "source": [
    "Null hypothesis:  Any differences between average hours of sleep between back/stomach sleepersor side sleepers is due to chance"
   ]
  },
  {
   "cell_type": "markdown",
   "metadata": {},
   "source": [
    "Alternative hypothesis:  \n",
    "\n",
    "Back/stomach sleepers on average get more sleep than side sleepers\n"
   ]
  },
  {
   "cell_type": "markdown",
   "metadata": {},
   "source": [
    "Test statistic:\n",
    "\n",
    "__ Average hours of sleep for back/stomach - Average hours of sleep for side __\n",
    "__ Asolute value of (Average hours of sleepfor back/stomach - Average hours of sleep for side) __\n",
    "\n",
    "\n",
    "\n",
    "Fill in the blank with \"Bigger\" or \"Smaller\":\n",
    "\n",
    "__ Larger __ values of the test statistic favor the alternative"
   ]
  },
  {
   "cell_type": "code",
   "execution_count": null,
   "metadata": {
    "tags": []
   },
   "outputs": [],
   "source": [
    "def compute_test_statistic(tbl):\n",
    "    grouped = tbl.group('position', np.average)\n",
    "    avgs = grouped.column('Hours of sleep average')\n",
    "    return avgs.item(1) - avgs.item(0)"
   ]
  },
  {
   "cell_type": "code",
   "execution_count": null,
   "metadata": {
    "tags": []
   },
   "outputs": [],
   "source": [
    "obs_test_stat = compute_test_statistic(survey)\n",
    "obs_test_stat"
   ]
  },
  {
   "cell_type": "code",
   "execution_count": null,
   "metadata": {
    "tags": []
   },
   "outputs": [],
   "source": [
    "random_labels = survey.sample(with_replacement=False).column('position')"
   ]
  },
  {
   "cell_type": "code",
   "execution_count": null,
   "metadata": {
    "tags": []
   },
   "outputs": [],
   "source": [
    "def simulate_under_null():\n",
    "    random_labels = survey.sample(with_replacement=False).column('position')\n",
    "    relabeled_tbl = survey.with_column('position', random_labels)\n",
    "    return compute_test_statistic(relabeled_tbl)\n"
   ]
  },
  {
   "cell_type": "code",
   "execution_count": null,
   "metadata": {
    "scrolled": true,
    "tags": []
   },
   "outputs": [],
   "source": [
    "simulated_diffs = make_array()\n",
    "for i in np.arange(1000):\n",
    "    null_stat = simulate_under_null()\n",
    "    simulated_diffs = np.append(simulated_diffs, null_stat)"
   ]
  },
  {
   "cell_type": "code",
   "execution_count": null,
   "metadata": {
    "tags": []
   },
   "outputs": [],
   "source": [
    "Table().with_column('Simulated difference', simulated_diffs).hist(0)"
   ]
  },
  {
   "cell_type": "code",
   "execution_count": null,
   "metadata": {
    "tags": []
   },
   "outputs": [],
   "source": [
    "obs_test_stat"
   ]
  },
  {
   "cell_type": "code",
   "execution_count": null,
   "metadata": {
    "tags": []
   },
   "outputs": [],
   "source": [
    "np.mean(simulated_diffs <= obs_test_stat)"
   ]
  },
  {
   "cell_type": "markdown",
   "metadata": {},
   "source": [
    "Are the data consistent with the null hypothesis?"
   ]
  }
 ],
 "metadata": {
  "kernelspec": {
   "display_name": "Python 3 (ipykernel)",
   "language": "python",
   "name": "python3"
  },
  "language_info": {
   "codemirror_mode": {
    "name": "ipython",
    "version": 3
   },
   "file_extension": ".py",
   "mimetype": "text/x-python",
   "name": "python",
   "nbconvert_exporter": "python",
   "pygments_lexer": "ipython3",
   "version": "3.10.12"
  },
  "toc": {
   "base_numbering": 1,
   "nav_menu": {},
   "number_sections": false,
   "sideBar": true,
   "skip_h1_title": false,
   "title_cell": "Table of Contents",
   "title_sidebar": "Contents",
   "toc_cell": false,
   "toc_position": {},
   "toc_section_display": true,
   "toc_window_display": true
  }
 },
 "nbformat": 4,
 "nbformat_minor": 4
}
