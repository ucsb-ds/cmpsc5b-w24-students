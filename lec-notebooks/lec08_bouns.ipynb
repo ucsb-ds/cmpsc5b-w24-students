{
 "cells": [
  {
   "cell_type": "code",
   "execution_count": null,
   "id": "6f7b226c-3214-49ad-8c68-e06e18c7922c",
   "metadata": {
    "tags": []
   },
   "outputs": [],
   "source": [
    "import numpy\n",
    "import datascience\n",
    "\n",
    "%matplotlib inline\n",
    "import matplotlib.pyplot as plots\n",
    "plots.style.use('fivethirtyeight')"
   ]
  },
  {
   "cell_type": "markdown",
   "id": "39ea9abb-2362-4bc3-a8e9-8dabd711b993",
   "metadata": {},
   "source": [
    "# 0% if data within 1 STD"
   ]
  },
  {
   "cell_type": "code",
   "execution_count": null,
   "id": "4ad0e90c-7259-4926-95ea-0a6a46540c1e",
   "metadata": {
    "tags": []
   },
   "outputs": [],
   "source": [
    "n = 1_000_000\n",
    "#a = numpy.append(numpy.repeat(0, 10000), numpy.repeat(2, 10000))\n",
    "a = numpy.append(numpy.append(numpy.repeat(0, n), 1), numpy.repeat(2, n))"
   ]
  },
  {
   "cell_type": "code",
   "execution_count": null,
   "id": "78284fba-265b-4537-8ef6-65164e95e0d9",
   "metadata": {
    "tags": []
   },
   "outputs": [],
   "source": [
    "datascience.Table().with_column('a', a).hist()"
   ]
  },
  {
   "cell_type": "code",
   "execution_count": null,
   "id": "f0a290d3-268a-48e9-9660-30412ee4629c",
   "metadata": {
    "tags": []
   },
   "outputs": [],
   "source": [
    "mean  = numpy.mean(a)\n",
    "std = numpy.std(a)\n",
    "mean, std"
   ]
  },
  {
   "cell_type": "code",
   "execution_count": null,
   "id": "23cf687b-de4f-46c7-bc22-29d39ab79d6f",
   "metadata": {
    "tags": []
   },
   "outputs": [],
   "source": [
    "within_one_std = (a >= mean-std) & (a <= mean+std)\n",
    "sum(within_one_std)"
   ]
  },
  {
   "cell_type": "code",
   "execution_count": null,
   "id": "da7bb573-6231-4d88-8d5b-f634a7ece14e",
   "metadata": {
    "tags": []
   },
   "outputs": [],
   "source": [
    "sum(within_one_std) / len(a)"
   ]
  },
  {
   "cell_type": "code",
   "execution_count": null,
   "id": "1e3c722b-ec59-4632-9c4f-ffe115c46fea",
   "metadata": {},
   "outputs": [],
   "source": []
  }
 ],
 "metadata": {
  "kernelspec": {
   "display_name": "Python 3 (ipykernel)",
   "language": "python",
   "name": "python3"
  },
  "language_info": {
   "codemirror_mode": {
    "name": "ipython",
    "version": 3
   },
   "file_extension": ".py",
   "mimetype": "text/x-python",
   "name": "python",
   "nbconvert_exporter": "python",
   "pygments_lexer": "ipython3",
   "version": "3.11.5"
  }
 },
 "nbformat": 4,
 "nbformat_minor": 5
}
