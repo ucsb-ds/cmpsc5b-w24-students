{
 "cells": [
  {
   "cell_type": "code",
   "execution_count": null,
   "id": "5a2ab6d1-ce2b-4583-81d0-114ca17e5c89",
   "metadata": {
    "tags": []
   },
   "outputs": [],
   "source": [
    "from datascience import *"
   ]
  },
  {
   "cell_type": "code",
   "execution_count": null,
   "id": "ee6b0d94-9953-488e-bdf9-21453ce8a090",
   "metadata": {
    "tags": []
   },
   "outputs": [],
   "source": [
    "t = Table().with_columns('a', [1,2,3], \n",
    "                         'b', [3,4,5])"
   ]
  },
  {
   "cell_type": "code",
   "execution_count": null,
   "id": "71db5f9a-92aa-4ae0-bb99-3e0d40e1d896",
   "metadata": {
    "tags": []
   },
   "outputs": [],
   "source": [
    "t.item(0)"
   ]
  },
  {
   "cell_type": "code",
   "execution_count": null,
   "id": "22d7eb19-48d0-49fe-97e1-f9bb522369d9",
   "metadata": {
    "tags": []
   },
   "outputs": [],
   "source": [
    "t.row(0)"
   ]
  },
  {
   "cell_type": "code",
   "execution_count": null,
   "id": "78b2055e-f177-4d15-81d7-1423f9261fc5",
   "metadata": {
    "tags": []
   },
   "outputs": [],
   "source": [
    "t.take(0)"
   ]
  },
  {
   "cell_type": "markdown",
   "id": "5151fda1-d0f4-4311-b107-feb9b3e17731",
   "metadata": {
    "tags": []
   },
   "source": [
    "# Arrays"
   ]
  },
  {
   "cell_type": "code",
   "execution_count": null,
   "id": "ad241414-e988-405f-87fe-5e0f01caa1a4",
   "metadata": {
    "tags": []
   },
   "outputs": [],
   "source": [
    "a = make_array(1,2,3)"
   ]
  },
  {
   "cell_type": "code",
   "execution_count": null,
   "id": "35124f21-3120-4798-8e92-196c62f5fd29",
   "metadata": {
    "tags": []
   },
   "outputs": [],
   "source": [
    "a.item(0)"
   ]
  },
  {
   "cell_type": "code",
   "execution_count": null,
   "id": "b21e3d4b-8242-484e-b4e8-49cd5d2e2621",
   "metadata": {
    "tags": []
   },
   "outputs": [],
   "source": [
    "t.column('a').item(0)"
   ]
  },
  {
   "cell_type": "code",
   "execution_count": null,
   "id": "942ddc80-dcaf-41a5-ae16-556f7463a2b3",
   "metadata": {},
   "outputs": [],
   "source": []
  }
 ],
 "metadata": {
  "kernelspec": {
   "display_name": "Python 3 (ipykernel)",
   "language": "python",
   "name": "python3"
  },
  "language_info": {
   "codemirror_mode": {
    "name": "ipython",
    "version": 3
   },
   "file_extension": ".py",
   "mimetype": "text/x-python",
   "name": "python",
   "nbconvert_exporter": "python",
   "pygments_lexer": "ipython3",
   "version": "3.10.12"
  }
 },
 "nbformat": 4,
 "nbformat_minor": 5
}
