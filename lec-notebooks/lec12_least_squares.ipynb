{
 "cells": [
  {
   "cell_type": "code",
   "execution_count": null,
   "metadata": {},
   "outputs": [],
   "source": [
    "from datascience import *\n",
    "import numpy as np"
   ]
  },
  {
   "cell_type": "code",
   "execution_count": null,
   "metadata": {},
   "outputs": [],
   "source": [
    "import matplotlib\n",
    "%matplotlib inline\n",
    "import matplotlib.pyplot as plots\n",
    "plots.style.use('fivethirtyeight')"
   ]
  },
  {
   "cell_type": "markdown",
   "metadata": {},
   "source": [
    "In this lecture, I am going to use more interactive plots (they look better) so I am using the plotly.express library.  We won't test you on this but it's good to know."
   ]
  },
  {
   "cell_type": "code",
   "execution_count": null,
   "metadata": {},
   "outputs": [],
   "source": [
    "import plotly.express as px\n",
    "from plotly.subplots import make_subplots\n",
    "import plotly.graph_objects as go"
   ]
  },
  {
   "cell_type": "markdown",
   "metadata": {},
   "source": [
    "# Lecture 12\n",
    "\n",
    "In this lecture, we will explore the use of optimization to find the \"best\" model and derive least-squares regression."
   ]
  },
  {
   "cell_type": "markdown",
   "metadata": {},
   "source": [
    "## Review From Last Lecture\n",
    "\n",
    "In the last lecture we developed the equations of slope and intercept using the correlation coefficient $r$."
   ]
  },
  {
   "cell_type": "markdown",
   "metadata": {},
   "source": [
    "### Standard Units\n",
    "\n",
    "$$\n",
    "\\text{StandardUnits}(x) = \\frac{x - \\text{Mean}(x)}{\\text{Stdev}(x)} \n",
    "$$"
   ]
  },
  {
   "cell_type": "code",
   "execution_count": null,
   "metadata": {},
   "outputs": [],
   "source": [
    "def standard_units(x):\n",
    "    \"\"\"Converts an array x to standard units\"\"\"\n",
    "    return (x - np.mean(x)) / np.std(x)"
   ]
  },
  {
   "cell_type": "markdown",
   "metadata": {},
   "source": [
    "### Correlation\n",
    "\n",
    "$$\n",
    "\\begin{align}\n",
    "r \n",
    "& = \\text{Mean}\\left(\\text{StandardUnits}(x) *  \\text{StandardUnits}(y)\\right)\\\\\n",
    "& = \\frac{1}{n} \\sum_{i=1}^n \\text{StandardUnits}(x_i) *  \\text{StandardUnits}(y_i)\\\\\n",
    "& = \\frac{1}{n}\\sum_{i=1}^n \\left( \\frac{x_i - \\text{Mean}(x)}{\\text{Stdev}(x)} \\right) * \\left( \\frac{y_i - \\text{Mean}(y)}{\\text{Stdev}(y)} \\right) \\\\\n",
    "\\end{align}\n",
    "$$"
   ]
  },
  {
   "cell_type": "code",
   "execution_count": null,
   "metadata": {},
   "outputs": [],
   "source": [
    "def correlation(t, x, y):\n",
    "    \"\"\"Computes the correlation between columns x and y\"\"\"\n",
    "    x_su = standard_units(t.column(x))\n",
    "    y_su = standard_units(t.column(y))\n",
    "    return np.mean(x_su * y_su)"
   ]
  },
  {
   "cell_type": "markdown",
   "metadata": {},
   "source": [
    "### Slope and Intercept\n",
    "\n",
    "$$\n",
    "\\begin{align}\n",
    "\\text{slope} &= r * \\frac{\\text{Stdev}(y)}{\\text{Stdev}(x)}\\\\\n",
    "\\text{intercept} & = \\text{Mean}(y) - \\text{slope} * \\text{Mean}(x)\n",
    "\\end{align}\n",
    "$$"
   ]
  },
  {
   "cell_type": "code",
   "execution_count": null,
   "metadata": {},
   "outputs": [],
   "source": [
    "def slope(t, x, y):\n",
    "    \"\"\"Computes the slope of the regression line\"\"\"\n",
    "    r = correlation(t, x, y)\n",
    "    y_sd = np.std(t.column(y))\n",
    "    x_sd = np.std(t.column(x))\n",
    "    return r * y_sd / x_sd"
   ]
  },
  {
   "cell_type": "code",
   "execution_count": null,
   "metadata": {},
   "outputs": [],
   "source": [
    "def intercept(t, x, y):\n",
    "    \"\"\"Computes the intercept of the regression line\"\"\"\n",
    "    x_mean = np.mean(t.column(x))\n",
    "    y_mean = np.mean(t.column(y))\n",
    "    return y_mean - slope(t, x, y)*x_mean"
   ]
  },
  {
   "cell_type": "markdown",
   "metadata": {},
   "source": [
    "### Linear Prediction\n",
    "\n",
    "$$\n",
    "y_\\text{predicted} = \\text{slope} * x + \\text{intercept}\n",
    "$$\n"
   ]
  },
  {
   "cell_type": "code",
   "execution_count": null,
   "metadata": {},
   "outputs": [],
   "source": [
    "def predict_linear(t, x, y):\n",
    "    \"\"\"Return an array of the regressions estimates at all the x values\"\"\"\n",
    "    pred_y = slope(t, x, y) * t.column(x) + intercept(t, x, y)\n",
    "    return pred_y"
   ]
  },
  {
   "cell_type": "markdown",
   "metadata": {},
   "source": [
    "<br><br><br>\n",
    "\n",
    "---\n",
    "\n",
    "## Making Predictions with Linear Regression\n",
    "\n",
    "We can now compute predictions, but how good are they?  How do we know that we have a good linear fit? To study this we will consider a new dataset."
   ]
  },
  {
   "cell_type": "code",
   "execution_count": null,
   "metadata": {},
   "outputs": [],
   "source": [
    "demographics = Table.read_table('data/district_demographics2016.csv')\n",
    "demographics.show(5)"
   ]
  },
  {
   "cell_type": "code",
   "execution_count": null,
   "metadata": {},
   "outputs": [],
   "source": [
    "demographics.scatter(\"College%\", \"Median Income\")"
   ]
  },
  {
   "cell_type": "code",
   "execution_count": null,
   "metadata": {},
   "outputs": [],
   "source": [
    "correlation(demographics, 'College%', 'Median Income')"
   ]
  },
  {
   "cell_type": "markdown",
   "metadata": {},
   "source": [
    "**Discussion Question:** Any concerns about the correlation computation being done here?"
   ]
  },
  {
   "cell_type": "markdown",
   "metadata": {},
   "source": [
    "### Making Predictions\n",
    "\n",
    "Here we will try to predict the income for each district as a function of the percent of college educated people."
   ]
  },
  {
   "cell_type": "code",
   "execution_count": null,
   "metadata": {},
   "outputs": [],
   "source": [
    "demo_slope = slope(demographics, 'College%', 'Median Income')\n",
    "demo_intercept = intercept(demographics, 'College%', 'Median Income')\n",
    "print(\"Slope:\", demo_slope)\n",
    "print(\"Intercept:\", demo_intercept)"
   ]
  },
  {
   "cell_type": "markdown",
   "metadata": {},
   "source": [
    "Make the actual predictions."
   ]
  },
  {
   "cell_type": "markdown",
   "metadata": {},
   "source": [
    "**Discussion Questions**\n",
    "- How do we interpret the slope and intercept?"
   ]
  },
  {
   "cell_type": "code",
   "execution_count": null,
   "metadata": {},
   "outputs": [],
   "source": [
    "demographics = demographics.with_column(\"Linear Prediction\", predict_linear(demographics, 'College%', 'Median Income'))\n",
    "demographics"
   ]
  },
  {
   "cell_type": "markdown",
   "metadata": {},
   "source": [
    "**Question**\n",
    "- Why do I predict data I already have?"
   ]
  },
  {
   "cell_type": "markdown",
   "metadata": {},
   "source": [
    "Visualizing the predictions:"
   ]
  },
  {
   "cell_type": "code",
   "execution_count": null,
   "metadata": {},
   "outputs": [],
   "source": [
    "demographics.scatter('College%', [\"Median Income\", \"Linear Prediction\"])"
   ]
  },
  {
   "cell_type": "code",
   "execution_count": null,
   "metadata": {
    "tags": []
   },
   "outputs": [],
   "source": [
    "def draw_line(intercept=0, slope=1):\n",
    "    plots.axline(xy1=(0, intercept), slope=slope)    \n",
    "\n",
    "def draw_vline(x_pos):\n",
    "    plots.axvline(x_pos, color='black')"
   ]
  },
  {
   "cell_type": "code",
   "execution_count": null,
   "metadata": {
    "tags": []
   },
   "outputs": [],
   "source": [
    "demographics.scatter('College%', \"Median Income\")\n",
    "draw_line(demo_intercept, demo_slope)"
   ]
  },
  {
   "cell_type": "markdown",
   "metadata": {},
   "source": [
    "Is this a good fit? Is it the best fit?"
   ]
  },
  {
   "cell_type": "markdown",
   "metadata": {},
   "source": [
    "---\n",
    "\n",
    "<center> Return to Slides </center>\n",
    "\n",
    "---"
   ]
  },
  {
   "cell_type": "markdown",
   "metadata": {},
   "source": [
    "## Computing the Error\n",
    "\n",
    "The error is the difference between the actual and predicted value:\n",
    "\n",
    "$$\n",
    "\\text{error} = y - y_\\text{predicted}\n",
    "$$\n",
    "\n",
    "In a future lecture, we will refer to this error as the **residual**.\n"
   ]
  },
  {
   "cell_type": "code",
   "execution_count": null,
   "metadata": {},
   "outputs": [],
   "source": [
    "y = demographics.column('Median Income')\n",
    "predicted = predict_linear(demographics, 'College%', 'Median Income')\n",
    "\n",
    "errors = y - predicted"
   ]
  },
  {
   "cell_type": "code",
   "execution_count": null,
   "metadata": {},
   "outputs": [],
   "source": [
    "demographics = demographics.with_column('Error', errors)\n",
    "demographics"
   ]
  },
  {
   "cell_type": "markdown",
   "metadata": {},
   "source": [
    "What are the districts with the largest error values?"
   ]
  },
  {
   "cell_type": "code",
   "execution_count": null,
   "metadata": {},
   "outputs": [],
   "source": [
    "(demographics\n",
    "     .with_column(\"Abs Error\", np.abs(demographics.column(\"Error\")))\n",
    "     .sort(\"Abs Error\", descending=True)\n",
    ")"
   ]
  },
  {
   "cell_type": "markdown",
   "metadata": {},
   "source": [
    "What would a large error suggest?"
   ]
  },
  {
   "cell_type": "markdown",
   "metadata": {},
   "source": [
    "### Visualizing the Errors"
   ]
  },
  {
   "cell_type": "code",
   "execution_count": null,
   "metadata": {},
   "outputs": [],
   "source": [
    "fig = px.scatter(demographics.to_df(), x=\"College%\", y=\"Median Income\", hover_name=\"District\")\n",
    "xtest = np.arange(0, 75, 1)\n",
    "fig.add_scatter(x=xtest, \n",
    "                y=demo_slope * xtest + demo_intercept,\n",
    "                name = f\"{np.round(demo_slope, 2)} x + {np.round(demo_intercept)}\")\n",
    "fig.add_scatter(x=demographics.column(\"College%\").repeat(3), \n",
    "                y=np.ravel(np.vstack([y, predicted, np.nan * predicted]).T),\n",
    "                marker_color=\"gray\", line_width=0.75, name=\"Errors\")\n",
    "fig"
   ]
  },
  {
   "cell_type": "code",
   "execution_count": null,
   "metadata": {},
   "outputs": [],
   "source": [
    "demographics.hist('Error', bins=50, rug=True)"
   ]
  },
  {
   "cell_type": "markdown",
   "metadata": {},
   "source": [
    "---\n",
    "## Summarizing the Overall Error"
   ]
  },
  {
   "cell_type": "markdown",
   "metadata": {},
   "source": [
    "What is the average error?"
   ]
  },
  {
   "cell_type": "code",
   "execution_count": null,
   "metadata": {},
   "outputs": [],
   "source": [
    "np.mean(errors)"
   ]
  },
  {
   "cell_type": "code",
   "execution_count": null,
   "metadata": {
    "tags": []
   },
   "outputs": [],
   "source": [
    "np.sum(errors)"
   ]
  },
  {
   "cell_type": "markdown",
   "metadata": {},
   "source": [
    "Mean Absolute Error (MAE)"
   ]
  },
  {
   "cell_type": "code",
   "execution_count": null,
   "metadata": {},
   "outputs": [],
   "source": [
    "np.mean(np.abs(errors))"
   ]
  },
  {
   "cell_type": "markdown",
   "metadata": {},
   "source": [
    "Mean Squared Error (MSE)"
   ]
  },
  {
   "cell_type": "code",
   "execution_count": null,
   "metadata": {},
   "outputs": [],
   "source": [
    "np.mean(errors ** 2)"
   ]
  },
  {
   "cell_type": "markdown",
   "metadata": {},
   "source": [
    "Root Mean Squared Error (RMSE)"
   ]
  },
  {
   "cell_type": "code",
   "execution_count": null,
   "metadata": {},
   "outputs": [],
   "source": [
    "np.sqrt(np.mean(errors ** 2))"
   ]
  },
  {
   "cell_type": "markdown",
   "metadata": {},
   "source": [
    "#### Discussion Question\n",
    "Why is the RMSE larger than the MAE?\n",
    "\n",
    "Assuming $y$ is income in dollars. What are the units of:\n",
    "1. Mean Absolute Error\n",
    "2. Mean Squared Error\n",
    "3. Root Mean Squared Error"
   ]
  },
  {
   "cell_type": "markdown",
   "metadata": {},
   "source": [
    "---\n",
    "\n",
    "## Error as Function of our Model (Line)"
   ]
  },
  {
   "cell_type": "code",
   "execution_count": null,
   "metadata": {},
   "outputs": [],
   "source": [
    "def demographics_rmse(slope, intercept):\n",
    "    predicted = slope * demographics.column(\"College%\") + intercept \n",
    "    actual = demographics.column(\"Median Income\")\n",
    "    errors = predicted - actual\n",
    "    rmse = np.sqrt(np.mean(errors ** 2))\n",
    "    return rmse"
   ]
  },
  {
   "cell_type": "markdown",
   "metadata": {},
   "source": [
    "The value of our error function for the slope and intercept we derived in last lecture is:"
   ]
  },
  {
   "cell_type": "code",
   "execution_count": null,
   "metadata": {},
   "outputs": [],
   "source": [
    "demographics_rmse(demo_slope, demo_intercept)"
   ]
  },
  {
   "cell_type": "markdown",
   "metadata": {},
   "source": [
    "What if we used a different slope and intercept value:"
   ]
  },
  {
   "cell_type": "code",
   "execution_count": null,
   "metadata": {},
   "outputs": [],
   "source": [
    "def visualize_demographics_rmse(slope, intercept):\n",
    "    rmse = demographics_rmse(slope, intercept)\n",
    "    predicted = slope * demographics.column(\"College%\") + intercept \n",
    "    actual = demographics.column(\"Median Income\")\n",
    "    fig = px.scatter(demographics.to_df(), x=\"College%\", y=\"Median Income\")\n",
    "    xtest = np.arange(0, 75, 1)\n",
    "    fig.add_scatter(x=xtest, y=slope * xtest + intercept,\n",
    "                    name = f\"{np.round(slope, 2)} x + {np.round(intercept)}\")\n",
    "    fig.add_scatter(x=demographics.column(\"College%\").repeat(3), \n",
    "                    y=np.ravel(np.vstack([actual, predicted, np.nan * predicted]).T),\n",
    "                    marker_color=\"gray\", line_width=0.75, name=\"Errors\")\n",
    "    fig.update_layout(title=f\"RMSE = {np.round(rmse, 2)}\")\n",
    "    return fig"
   ]
  },
  {
   "cell_type": "code",
   "execution_count": null,
   "metadata": {},
   "outputs": [],
   "source": [
    "visualize_demographics_rmse(demo_slope, demo_intercept)"
   ]
  },
  {
   "cell_type": "code",
   "execution_count": null,
   "metadata": {},
   "outputs": [],
   "source": [
    "visualize_demographics_rmse(demo_slope+1000, demo_intercept - 50000)"
   ]
  },
  {
   "cell_type": "markdown",
   "metadata": {},
   "source": [
    "---\n",
    "\n",
    "Varying the Slope and Intercept and Plotting the RMSE"
   ]
  },
  {
   "cell_type": "code",
   "execution_count": null,
   "metadata": {},
   "outputs": [],
   "source": [
    "alt_slopes = demo_slope + np.arange(-20, 20)\n",
    "rmses = []\n",
    "for new_slope in alt_slopes:\n",
    "    rmses = np.append(rmses, demographics_rmse(new_slope, demo_intercept))\n",
    "\n",
    "variations = Table().with_columns(\"Slope\", alt_slopes, \"RMSE\", rmses)"
   ]
  },
  {
   "cell_type": "code",
   "execution_count": null,
   "metadata": {},
   "outputs": [],
   "source": [
    "fig = px.scatter(variations.to_df(), x=\"Slope\", y=\"RMSE\")\n",
    "fig.add_scatter(x=[demo_slope], y=[demographics_rmse(demo_slope, demo_intercept)], marker_size=10, \n",
    "                name=\"Best Slope\")"
   ]
  },
  {
   "cell_type": "markdown",
   "metadata": {},
   "source": [
    "What if we tried to change the intercept value while using the best slope so far?"
   ]
  },
  {
   "cell_type": "code",
   "execution_count": null,
   "metadata": {},
   "outputs": [],
   "source": [
    "alt_intercepts = demo_intercept + np.arange(-2000, 2000, 100)\n",
    "rmses = []\n",
    "for new_intercept in alt_intercepts:\n",
    "    rmses = np.append(rmses, demographics_rmse(demo_slope, new_intercept))\n",
    "\n",
    "variations = Table().with_columns(\"Intercept\", alt_intercepts, \"RMSE\", rmses)\n",
    "fig = px.scatter(variations.to_df(), x=\"Intercept\", y=\"RMSE\")\n",
    "fig.add_scatter(x=[demo_intercept], y=[demographics_rmse(demo_slope, demo_intercept)], marker_size=10, \n",
    "                name=\"Best Intercept\")"
   ]
  },
  {
   "cell_type": "markdown",
   "metadata": {},
   "source": [
    "What if we tried changing both the slope and the intercept at the same time?"
   ]
  },
  {
   "cell_type": "code",
   "execution_count": null,
   "metadata": {},
   "outputs": [],
   "source": [
    "alt_slopes = demo_slope + np.arange(-100, 100, 1)\n",
    "alt_intercepts = demo_intercept + np.arange(-2000, 2000, 10)\n",
    "variations = Table([\"Slope\", \"Intercept\", \"RMSE\"])\n",
    "for new_slope in alt_slopes:\n",
    "    for new_intercept in alt_intercepts:\n",
    "        rmse = demographics_rmse(new_slope, new_intercept)\n",
    "        variations.append([new_slope, new_intercept, rmse])\n",
    "    \n",
    "variations\n",
    "go.Figure(data=[\n",
    "    go.Contour(x=variations.column(\"Slope\"), y=variations.column(\"Intercept\"), z=variations.column(\"RMSE\")), \n",
    "    go.Scatter(x=[demo_slope], y=[demo_intercept], marker_color=\"red\")\n",
    "],\n",
    "layout=dict(width = 800,height=600, xaxis_title=\"Slope\", yaxis_title=\"Intercept\"))"
   ]
  },
  {
   "cell_type": "markdown",
   "metadata": {},
   "source": [
    "In three dimensions:"
   ]
  },
  {
   "cell_type": "code",
   "execution_count": null,
   "metadata": {},
   "outputs": [],
   "source": [
    "go.Figure(data=[\n",
    "    go.Surface(x = alt_slopes, y = alt_intercepts,\n",
    "               z=variations.column(\"RMSE\").reshape(len(alt_slopes), len(alt_intercepts)).T),\n",
    "               #contours = {\"z\": {\"show\": True , 'start': 9400, 'end': 10600, 'size':10}}),                \n",
    "    go.Scatter3d(x=[demo_slope], y=[demo_intercept], z=[demographics_rmse(demo_slope, demo_intercept)])], \n",
    "          layout=dict(height=1000, \n",
    "                      scene_xaxis_title=\"Slope\", scene_yaxis_title=\"Intercept\", \n",
    "                      scene_zaxis_title=\"RMSE\"))"
   ]
  },
  {
   "cell_type": "markdown",
   "metadata": {},
   "source": [
    "---\n",
    "\n",
    "<center> Return to Slides </center>\n",
    "\n",
    "---"
   ]
  },
  {
   "cell_type": "markdown",
   "metadata": {
    "tags": []
   },
   "source": [
    "## Numerical Optimization\n",
    "\n",
    "If our goal is just to find the parameters of our line that minimize some kind of error, we can use numerical optimization tools.  Suppose we wanted to minimize the function:\n",
    "\n",
    "$$\n",
    "f(x) = \\left(x - 2\\right)^2 + 3\n",
    "$$"
   ]
  },
  {
   "cell_type": "code",
   "execution_count": null,
   "metadata": {},
   "outputs": [],
   "source": [
    "def f(x):\n",
    "    return ((x-2)**2) + 3"
   ]
  },
  {
   "cell_type": "code",
   "execution_count": null,
   "metadata": {},
   "outputs": [],
   "source": [
    "x = np.arange(1, 3, 0.1)\n",
    "y = f(x)\n",
    "px.line(x=x, y=y)"
   ]
  },
  {
   "cell_type": "markdown",
   "metadata": {},
   "source": [
    "We could use the minimize function in the `datascience` package. The function returns the arguments to the functions that result in the minimum value:\n",
    "\n",
    "$$\n",
    "\\texttt{minimize(f)}\\, = \\, \\arg\\min_{a,b, \\ldots} f(a,b\\ldots)\n",
    "$$"
   ]
  },
  {
   "cell_type": "code",
   "execution_count": null,
   "metadata": {},
   "outputs": [],
   "source": [
    "minimize(f)"
   ]
  },
  {
   "cell_type": "code",
   "execution_count": null,
   "metadata": {},
   "outputs": [],
   "source": [
    "print(\"x_min =\", minimize(f))\n",
    "print(\"f(x_min) =\", f(minimize(f)))"
   ]
  },
  {
   "cell_type": "code",
   "execution_count": null,
   "metadata": {},
   "outputs": [],
   "source": [
    "fig = px.line(x=x, y=y)\n",
    "fig.add_scatter(x=[minimize(f)], y=[f(minimize(f))],\n",
    "                name=\"Minimum\", marker_color=\"red\", marker_size=10)"
   ]
  },
  {
   "cell_type": "markdown",
   "metadata": {},
   "source": [
    "Minimize works for even more complex functions.\n",
    "\n",
    "$$\n",
    "f(x) = 2 * \\sin(\\pi x) + x^3 + x^4 + \\sin(10x)\n",
    "$$"
   ]
  },
  {
   "cell_type": "code",
   "execution_count": null,
   "metadata": {},
   "outputs": [],
   "source": [
    "def complicated_function(x):\n",
    "    return 2 * np.sin(x*np.pi) + x ** 3 + x ** 4 + np.sin(x * 10)"
   ]
  },
  {
   "cell_type": "code",
   "execution_count": null,
   "metadata": {},
   "outputs": [],
   "source": [
    "x = np.arange(-1.5, 1.5, 0.01)\n",
    "y2 = complicated_function(x)\n",
    "px.line(x=x, y=y2)"
   ]
  },
  {
   "cell_type": "markdown",
   "metadata": {},
   "source": [
    "We can still use minimize to find the minimum:"
   ]
  },
  {
   "cell_type": "code",
   "execution_count": null,
   "metadata": {},
   "outputs": [],
   "source": [
    "x_min = minimize(complicated_function)\n",
    "print(\"x_min =\", x_min)\n",
    "print(\"f(x_min) =\", complicated_function(x_min))"
   ]
  },
  {
   "cell_type": "code",
   "execution_count": null,
   "metadata": {},
   "outputs": [],
   "source": [
    "fig = px.line(x=x, y=y2)\n",
    "fig.add_scatter(x=[x_min],\n",
    "                y=[complicated_function(x_min)],\n",
    "                name=\"Minimum\", marker_color=\"red\", marker_size=10)"
   ]
  },
  {
   "cell_type": "markdown",
   "metadata": {},
   "source": [
    "We can even minimize multidimensional functions:\n",
    "\n",
    "$$\n",
    "\\texttt{surface_function(a,b)} = -\\frac{\\cos\\left(\\pi \\sqrt{(a+0.5)^2 + b^2}\\right)}{\\sqrt{(a+0.5)^2 + b^2} + 1}\n",
    "$$"
   ]
  },
  {
   "cell_type": "code",
   "execution_count": null,
   "metadata": {},
   "outputs": [],
   "source": [
    "def surface_function(a, b):\n",
    "    d = np.sqrt( (a+0.5)**2 + b**2 )\n",
    "    return -np.cos(np.pi* d) / (d**2 + 1)"
   ]
  },
  {
   "cell_type": "code",
   "execution_count": null,
   "metadata": {},
   "outputs": [],
   "source": [
    "a_min, b_min = minimize(surface_function)\n",
    "[a_min, b_min]"
   ]
  },
  {
   "cell_type": "markdown",
   "metadata": {},
   "source": [
    "Visualizing the surface and the minimum:"
   ]
  },
  {
   "cell_type": "code",
   "execution_count": null,
   "metadata": {},
   "outputs": [],
   "source": [
    "xs = np.arange(-1.5, 1.5, 0.01)\n",
    "ys = np.arange(-1.5, 1.5, 0.01)\n",
    "x, y = np.meshgrid(xs, ys)\n",
    "zs = surface_function(x.flatten(), y.flatten())\n",
    "go.Figure(data=[\n",
    "    go.Surface(x = xs, y = ys,\n",
    "               z=zs.reshape(len(xs), len(ys))),\n",
    "    go.Scatter3d(x=[a_min], y=[b_min], z=[surface_function(a_min, b_min)])\n",
    "    ], \n",
    "    layout=dict(height=1000, \n",
    "                scene_xaxis_title=\"a\", scene_yaxis_title=\"b\", \n",
    "                scene_zaxis_title=\"surface\"))"
   ]
  },
  {
   "cell_type": "markdown",
   "metadata": {},
   "source": [
    "<br><br><br>\n",
    "\n",
    "---\n",
    "\n",
    "### Minimizing RMSE \n",
    "\n",
    "We can use minimize to find the slope and intercept that minimize root mean squared error in our predictions:"
   ]
  },
  {
   "cell_type": "code",
   "execution_count": null,
   "metadata": {},
   "outputs": [],
   "source": [
    "minimize(demographics_rmse)"
   ]
  },
  {
   "cell_type": "markdown",
   "metadata": {},
   "source": [
    "How does this compare to the slope and intercept we derived earlier?"
   ]
  },
  {
   "cell_type": "code",
   "execution_count": null,
   "metadata": {},
   "outputs": [],
   "source": [
    "[demo_slope, demo_intercept]"
   ]
  },
  {
   "cell_type": "markdown",
   "metadata": {},
   "source": [
    "What happens if we minimize the mean squared error instead of the root mean squared error?"
   ]
  },
  {
   "cell_type": "code",
   "execution_count": null,
   "metadata": {},
   "outputs": [],
   "source": [
    "def demographics_mse(slope, intercept):\n",
    "    x = demographics.column('College%')\n",
    "    y = demographics.column('Median Income')\n",
    "    estimate = slope*x + intercept\n",
    "    return np.mean(((y - estimate) ** 2))"
   ]
  },
  {
   "cell_type": "code",
   "execution_count": null,
   "metadata": {},
   "outputs": [],
   "source": [
    "minimize(demographics_mse)"
   ]
  },
  {
   "cell_type": "markdown",
   "metadata": {},
   "source": [
    "What if we wanted to use the absolute error instead?"
   ]
  },
  {
   "cell_type": "code",
   "execution_count": null,
   "metadata": {},
   "outputs": [],
   "source": [
    "def demographics_mae(any_slope, any_intercept):\n",
    "    x = demographics.column('College%')\n",
    "    y = demographics.column('Median Income')\n",
    "    estimate = any_slope*x + any_intercept\n",
    "    return np.mean(np.abs(y - estimate))"
   ]
  },
  {
   "cell_type": "code",
   "execution_count": null,
   "metadata": {},
   "outputs": [],
   "source": [
    "minimize(demographics_mae)"
   ]
  },
  {
   "cell_type": "markdown",
   "metadata": {},
   "source": [
    "That is different!"
   ]
  },
  {
   "cell_type": "code",
   "execution_count": null,
   "metadata": {},
   "outputs": [],
   "source": [
    "mae_slope, mae_intercept = minimize(demographics_mae)\n",
    "fig = px.scatter(demographics.to_df(), x=\"College%\", y=\"Median Income\")\n",
    "xtest = np.arange(0, 75, 0.1)\n",
    "fig.add_scatter(x=xtest, \n",
    "                y=demo_slope * xtest + demo_intercept,\n",
    "                name = f\"Least Squares: {np.round(demo_slope, 2)} x + {np.round(demo_intercept)}\")\n",
    "fig.add_scatter(x=xtest, \n",
    "                y=mae_slope * xtest + mae_intercept,\n",
    "                name = f\"MAE: {np.round(mae_slope, 2)} x + {np.round(mae_intercept)}\")\n",
    "fig"
   ]
  },
  {
   "cell_type": "markdown",
   "metadata": {},
   "source": [
    "---\n",
    "\n",
    "<center> Return to Slides </center>\n",
    "\n",
    "---"
   ]
  },
  {
   "cell_type": "markdown",
   "metadata": {},
   "source": [
    "## Multiple Linear Regression\n",
    "\n",
    "We can also use multiple variables to help predict a single variable.  "
   ]
  },
  {
   "cell_type": "code",
   "execution_count": null,
   "metadata": {},
   "outputs": [],
   "source": [
    "hybrid = Table.read_table('data/hybrid.csv')\n",
    "hybrid.show(5)"
   ]
  },
  {
   "cell_type": "code",
   "execution_count": null,
   "metadata": {},
   "outputs": [],
   "source": [
    "px.scatter_3d(\n",
    "    hybrid.to_df(), \n",
    "    x=\"mpg\", y=\"acceleration\", z=\"msrp\",\n",
    "    hover_name=\"vehicle\", \n",
    "    color=\"class\", \n",
    "    height=800\n",
    ")"
   ]
  },
  {
   "cell_type": "markdown",
   "metadata": {},
   "source": [
    "Suppose we use the model:\n",
    "\n",
    "$$\n",
    "price = a * \\text{acc} + b * \\text{mpg} + c\n",
    "$$"
   ]
  },
  {
   "cell_type": "code",
   "execution_count": null,
   "metadata": {},
   "outputs": [],
   "source": [
    "def hybrid_rmse(a, b, c):\n",
    "    actual = hybrid.column(\"msrp\")\n",
    "    acc = hybrid.column(\"acceleration\")\n",
    "    mpg = hybrid.column(\"mpg\")\n",
    "    predicted = a*acc + b*mpg + c\n",
    "    rmse = np.sqrt(np.mean((actual - predicted)**2))\n",
    "    return rmse"
   ]
  },
  {
   "cell_type": "code",
   "execution_count": null,
   "metadata": {},
   "outputs": [],
   "source": [
    "a, b, c = minimize(hybrid_rmse)\n",
    "[a, b, c]"
   ]
  },
  {
   "cell_type": "code",
   "execution_count": null,
   "metadata": {},
   "outputs": [],
   "source": [
    "print(f\"Error: {hybrid_rmse(a, b, c):_}\")"
   ]
  },
  {
   "cell_type": "code",
   "execution_count": null,
   "metadata": {},
   "outputs": [],
   "source": [
    "mpg_range = np.arange(10, 80)\n",
    "acceleration_range = np.arange(5, 25)\n",
    "predictions = Table([\"mpg\", \"acc\", \"pred\"])\n",
    "for mpg in mpg_range:\n",
    "    for acc in acceleration_range: \n",
    "        pred = a * acc + b * mpg + c\n",
    "        predictions.append([mpg, acc, pred])"
   ]
  },
  {
   "cell_type": "code",
   "execution_count": null,
   "metadata": {},
   "outputs": [],
   "source": [
    "fig = px.scatter_3d(\n",
    "    hybrid.to_df(), \n",
    "    x=\"mpg\", y=\"acceleration\", z=\"msrp\",\n",
    "    hover_name=\"vehicle\", \n",
    "    color=\"class\", \n",
    "    height=800\n",
    ")\n",
    "\n",
    "fig.add_surface(\n",
    "    x = mpg_range, \n",
    "    y = acceleration_range,\n",
    "    z = predictions.column(\"pred\").reshape(len(mpg_range), len(acceleration_range)).T,\n",
    "    showscale=False\n",
    ")"
   ]
  },
  {
   "cell_type": "markdown",
   "metadata": {},
   "source": [
    "## Fitting Non-linear Data\n",
    "\n",
    "We could try to improve our predictions by defining a more complex equation:\n",
    "\n",
    "$$\n",
    "price = a * \\text{acc} + b *\\text{mpg} + c * \\text{acc}^2  + d * \\text{mpg}^2 + e \n",
    "$$\n",
    "\n"
   ]
  },
  {
   "cell_type": "code",
   "execution_count": null,
   "metadata": {},
   "outputs": [],
   "source": [
    "def hybrid_better_rmse(a, b, c, d, e):\n",
    "    actual = hybrid.column(\"msrp\")\n",
    "    acc = hybrid.column(\"acceleration\")\n",
    "    mpg = hybrid.column(\"mpg\")\n",
    "    predicted = a*acc + b*mpg + c*acc**2 + d*mpg**2 + e\n",
    "    mse = np.sqrt(np.mean((actual - predicted)**2))\n",
    "    return mse"
   ]
  },
  {
   "cell_type": "code",
   "execution_count": null,
   "metadata": {},
   "outputs": [],
   "source": [
    "a, b, c, d, e = minimize(hybrid_better_rmse)\n",
    "[a, b, c, d, e]"
   ]
  },
  {
   "cell_type": "code",
   "execution_count": null,
   "metadata": {},
   "outputs": [],
   "source": [
    "print(f\"Error: {hybrid_better_rmse(a,b,c,d,e):,}\")"
   ]
  },
  {
   "cell_type": "code",
   "execution_count": null,
   "metadata": {},
   "outputs": [],
   "source": [
    "mpg_range = np.arange(10, 80)\n",
    "acceleration_range = np.arange(5, 25)\n",
    "predictions = Table([\"mpg\", \"acc\", \"pred\"])\n",
    "for mpg in mpg_range:\n",
    "    for acc in acceleration_range: \n",
    "        pred = a*acc + b*mpg + c*acc**2 + d*mpg**2 + e\n",
    "        predictions.append([mpg, acc, pred])\n",
    "        \n",
    "fig = px.scatter_3d(\n",
    "    hybrid.to_df(), \n",
    "    x=\"mpg\", y=\"acceleration\", z=\"msrp\",\n",
    "    hover_name=\"vehicle\", \n",
    "    color=\"class\", \n",
    "    height=800\n",
    ")\n",
    "fig.add_surface(\n",
    "    x = mpg_range, y = acceleration_range,\n",
    "    z = predictions.column(\"pred\").reshape(len(mpg_range), len(acceleration_range)).T,\n",
    "    showscale=False\n",
    ")"
   ]
  },
  {
   "cell_type": "code",
   "execution_count": null,
   "metadata": {},
   "outputs": [],
   "source": []
  },
  {
   "cell_type": "code",
   "execution_count": null,
   "metadata": {},
   "outputs": [],
   "source": []
  }
 ],
 "metadata": {
  "kernelspec": {
   "display_name": "Python 3 (ipykernel)",
   "language": "python",
   "name": "python3"
  },
  "language_info": {
   "codemirror_mode": {
    "name": "ipython",
    "version": 3
   },
   "file_extension": ".py",
   "mimetype": "text/x-python",
   "name": "python",
   "nbconvert_exporter": "python",
   "pygments_lexer": "ipython3",
   "version": "3.10.12"
  }
 },
 "nbformat": 4,
 "nbformat_minor": 4
}
